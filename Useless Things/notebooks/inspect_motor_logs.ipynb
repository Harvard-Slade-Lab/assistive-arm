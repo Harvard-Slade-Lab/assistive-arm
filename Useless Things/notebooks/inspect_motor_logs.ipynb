{
 "cells": [
  {
   "cell_type": "code",
   "execution_count": null,
   "metadata": {},
   "outputs": [],
   "source": [
    "import numpy as np\n",
    "import os\n",
    "import pandas as pd\n",
    "import yaml\n",
    "\n",
    "from pathlib import Path\n",
    "\n",
    "import matplotlib.pyplot as plt\n",
    "\n",
    "from assistive_arm.utils.optimum_length_utils import smooth_dataframe, interpolate_dataframe\n",
    "from assistive_arm.utils.data_preprocessing import read_headers"
   ]
  },
  {
   "cell_type": "code",
   "execution_count": null,
   "metadata": {},
   "outputs": [],
   "source": [
    "log_dir = Path(\"../subject_logs/\")\n",
    "subject_path = log_dir / \"subject_Xabi\"\n",
    "day_path = subject_path / \"December_18\"\n",
    "\n",
    "motor_data_paths = [file for file in sorted(day_path.iterdir()) if file.suffix == \".csv\"]\n",
    "motor_data_paths"
   ]
  },
  {
   "cell_type": "code",
   "execution_count": null,
   "metadata": {},
   "outputs": [],
   "source": [
    "log_path = motor_data_paths[6]\n",
    "# log_name = \"1_fixed_force_time_27_force_62.csv\"\n",
    "\n",
    "yaml_path = day_path / \"device_height_calibration.yaml\""
   ]
  },
  {
   "cell_type": "code",
   "execution_count": null,
   "metadata": {},
   "outputs": [],
   "source": [
    "headers = read_headers(log_path, 2, \",\")\n",
    "time = headers[0][1]\n",
    "force = headers[1][1]\n",
    "print(os.getcwd())\n",
    "task_df = pd.read_csv(log_path, skiprows=2, index_col='time')\n",
    "profile = pd.read_csv(f\"../torque_profiles/spline_profiles/peak_time_{time}_peak_force_{force}.csv\")\n",
    "\n",
    "# open yaml file\n",
    "with open(yaml_path, 'r') as f:\n",
    "    calibration_file = yaml.load(f, Loader=yaml.FullLoader)"
   ]
  },
  {
   "cell_type": "code",
   "execution_count": null,
   "metadata": {},
   "outputs": [],
   "source": [
    "fig, ax = plt.subplots(3, 1, sharex=True, figsize=(10, 10))\n",
    "ax[0].plot(task_df.index, task_df[\"theta_2\"], label=\"theta_2\")\n",
    "# ax[0].plot(task_df.index, calibration_file[\"theta_2_values\"], label=\"theta_2 at calibration\")\n",
    "ax[0].axhline(y=calibration_file[\"new_range\"][\"min\"], linestyle=\"--\", color=\"black\")\n",
    "ax[0].axhline(y=calibration_file[\"new_range\"][\"max\"], linestyle=\"--\", color=\"black\")\n",
    "ax[0].grid()\n",
    "ax[0].legend()\n",
    "ax[0].set_ylabel(\"theta_2 (rad)\")\n",
    "\n",
    "\n",
    "ax[1].plot(task_df.index, task_df[\"target_tau_1\"], label=\"target_tau_1\")\n",
    "ax[1].plot(task_df.index, task_df[\"measured_tau_1\"], label=\"measured_tau_1\")\n",
    "ax[1].plot(task_df.index, task_df[\"target_tau_2\"], label=\"target_tau_2\")\n",
    "ax[1].plot(task_df.index, task_df[\"measured_tau_2\"], label=\"measured_tau_2\")\n",
    "ax[1].grid()\n",
    "ax[1].legend()\n",
    "ax[1].set_ylabel(\"Torque (Nm)\")\n",
    "\n",
    "ax[2].plot(task_df.index, task_df[\"Percentage\"], label=\"STS %\")\n",
    "ax[2].axhline(y=100, linestyle=\"--\", color=\"black\")\n",
    "ax[2].axhline(y=0, linestyle=\"--\", color=\"black\")\n",
    "ax[2].grid()\n",
    "ax[2].legend()\n",
    "ax[2].set_ylabel(\"STS %\")\n",
    "ax[2].set_xlabel('time')"
   ]
  },
  {
   "cell_type": "code",
   "execution_count": null,
   "metadata": {},
   "outputs": [],
   "source": [
    "fig, axs = plt.subplots(2, 2, sharex=True, figsize=(20, 5))\n",
    "\n",
    "axs[0, 0].plot(task_df.index, -task_df.EE_X, label=\"pelvis Y\")\n",
    "axs[0, 0].grid()\n",
    "axs[0, 0].legend()\n",
    "axs[0, 0].set_ylabel(\"pelvis Y (m)\")\n",
    "\n",
    "axs[0, 1].plot(task_df.index, task_df.theta_1, label=\"theta_1\")\n",
    "axs[0, 1].plot(task_df.index, task_df.theta_2, label=\"theta_2\")\n",
    "axs[0, 1].grid()\n",
    "axs[0, 1].legend()\n",
    "axs[0, 1].set_ylabel(\"joint angle (rad)\")\n",
    "\n",
    "\n",
    "axs[1, 0].plot(task_df.index, task_df.velocity_1, label=\"base velocity\")\n",
    "axs[1, 0].plot(task_df.index, task_df.velocity_2, label=\"elbow velocity\")\n",
    "axs[1, 0].grid()\n",
    "axs[1, 0].legend()\n",
    "axs[1, 0].set_xlabel('time (s)')\n",
    "axs[1, 0].set_ylabel('velocity (rad/s)')\n",
    "\n",
    "axs[1, 1].plot(task_df.index, task_df.measured_tau_1, label=\"base torque\")\n",
    "axs[1, 1].plot(task_df.index, task_df.measured_tau_2, label=\"elbow torque\")\n",
    "axs[1, 1].grid()\n",
    "axs[1, 1].legend()\n",
    "axs[1, 1].set_xlabel('time (s)')\n",
    "axs[1, 1].set_ylabel('torque (Nm)')"
   ]
  },
  {
   "cell_type": "code",
   "execution_count": null,
   "metadata": {},
   "outputs": [],
   "source": []
  }
 ],
 "metadata": {
  "kernelspec": {
   "display_name": ".venv",
   "language": "python",
   "name": "python3"
  },
  "language_info": {
   "codemirror_mode": {
    "name": "ipython",
    "version": 3
   },
   "file_extension": ".py",
   "mimetype": "text/x-python",
   "name": "python",
   "nbconvert_exporter": "python",
   "pygments_lexer": "ipython3",
   "version": "3.10.14"
  }
 },
 "nbformat": 4,
 "nbformat_minor": 2
}
