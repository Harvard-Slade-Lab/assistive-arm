{
 "cells": [
  {
   "cell_type": "code",
   "execution_count": 9,
   "metadata": {},
   "outputs": [],
   "source": [
    "# %reload_ext autoreload\n",
    "# %autoreload 2\n",
    "\n",
    "import pandas as pd\n",
    "from pathlib import Path\n",
    "import yaml\n",
    "import numpy as np\n",
    "from scipy import signal\n",
    "\n",
    "import matplotlib.pyplot as plt\n",
    "import matplotlib.ticker as mticker\n",
    "import matplotlib.gridspec as gridspec\n",
    "from matplotlib.lines import Line2D\n",
    "from matplotlib.patches import Rectangle\n",
    "from datetime import date\n",
    "import seaborn as sns\n",
    "\n",
    "import sys\n",
    "from pathlib import Path\n",
    "current_dir = Path().resolve()\n",
    "sys.path.append(str(current_dir.parent))\n",
    "from utils.plotting import extract_muscle_activations\n",
    "# from assistive_arm.utils.plotting import plot_residual_all, plot_residual_torques_leg, plot_coordactuator_torques_arm, plot_coordactuator_torques_back, plot_residual_forces_torques_all\n",
    "# from assistive_arm.utils.plotting import plot_residual_torques_leg_right, plot_residual_torques_leg_left\n",
    "# from assistive_arm.utils.plotting import plot_muscles_group_activations, plot_muscles_activations, plot_muscles_group_activation_differences, plot_muscles_group_activations2, plot_muscles_group_activation_differences2, plot_muscles_group_activations_mean2\n",
    "# from assistive_arm.utils.plotting import plot_GRF_osim, plot_res_assist_forces_grf_osim, plot_GRF_osim2, plot_GRF_osim3, plot_GRF_osim4, plot_GRF_osim2_averaged\n",
    "# from assistive_arm.utils.data_preprocessing import smooth_dataframe, interpolate_dataframe\n",
    "# from assistive_arm.utils.data_preprocessing import butterworth_low_pass"
   ]
  },
  {
   "cell_type": "code",
   "execution_count": null,
   "metadata": {},
   "outputs": [],
   "source": []
  }
 ],
 "metadata": {
  "kernelspec": {
   "display_name": "mluser",
   "language": "python",
   "name": "python3"
  },
  "language_info": {
   "codemirror_mode": {
    "name": "ipython",
    "version": 3
   },
   "file_extension": ".py",
   "mimetype": "text/x-python",
   "name": "python",
   "nbconvert_exporter": "python",
   "pygments_lexer": "ipython3",
   "version": "3.10.8"
  }
 },
 "nbformat": 4,
 "nbformat_minor": 2
}
