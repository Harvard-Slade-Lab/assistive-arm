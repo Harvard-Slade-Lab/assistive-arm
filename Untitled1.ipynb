{
 "cells": [
  {
   "cell_type": "code",
   "execution_count": null,
   "id": "0",
   "metadata": {},
   "outputs": [],
   "source": []
  },
  {
   "cell_type": "code",
   "execution_count": null,
   "id": "1",
   "metadata": {},
   "outputs": [],
   "source": [
    "import pandas as pd\n",
    "import seaborn as sns\n",
    "import matplotlib.pyplot as plt\n",
    "\n",
    "#Load fake data\n",
    "fake_data_path = 'fake_data.csv'\n",
    "df_melted_fake = pd.read_csv(fake_data_path)\n",
    "\n",
    "#Define colors\n",
    "my_colors = [\"#9db5dc\", \"#FF8E8A\", \"#a2cf97\", \"#6992BB\", \"#D7554F\", \"#83BD76\", \"#3d6e9b\", \"#8F1F1B\", \"#5e914f\"] #bar colors\n",
    "\n",
    "#Plot data\n",
    "fig, ax = plt.subplots(figsize=(5,3))\n",
    "sns.barplot(data=df_melted_fake, x='metric', y='difference', hue='angle', palette=my_colors, ax=ax)\n",
    "sns.stripplot(data = df_melted_fake, x='metric', y='difference', hue='angle', size = 4, dodge = True, jitter = False, facecolor = 'black', edgecolor = 'black', linewidth= 1)\n",
    "\n",
    "# Manually override bar colors (necessary for proper coloring of bars)\n",
    "for i, bar in enumerate(ax.patches):\n",
    "    bar.set_facecolor(my_colors[i % len(my_colors)])\n",
    "    bar.set_edgecolor('black')\n",
    "\n",
    "#Manually override the colors of the dots in the stripplot\n",
    "my_colors = [\"#9db5dc\", \"#6992BB\", \"#3d6e9b\", \"#FF8E8A\", \"#D7554F\", \"#8F1F1B\", \"#a2cf97\", \"#83BD76\", \"#5e914f\"] #dot colors\n",
    "strip_collections = ax.collections\n",
    "for collection, color in zip(strip_collections, my_colors):\n",
    "    collection.set_facecolor(color)\n",
    "    collection.set_edgecolor('black')\n",
    "\n",
    "#Set plot parameters\n",
    "ax.set_xlabel(None)\n",
    "ax.set_ylabel('Relative Mangitude Change [a.u.]')\n",
    "ax.set_ylim([0, 1.01])\n",
    "ax.get_legend().remove()\n",
    "\n",
    "#Save if desired\n",
    "# plt.rcParams['svg.fonttype'] = 'none'\n",
    "# plt.savefig('groupedbar_mag_angle.svg', bbox_inches = \"tight\")"
   ]
  }
 ],
 "metadata": {
  "kernelspec": {
   "display_name": "Python 3 (ipykernel)",
   "language": "python",
   "name": "python3"
  },
  "language_info": {
   "codemirror_mode": {
    "name": "ipython",
    "version": 3
   },
   "file_extension": ".py",
   "mimetype": "text/x-python",
   "name": "python",
   "nbconvert_exporter": "python",
   "pygments_lexer": "ipython3",
   "version": "3.10.13"
  }
 },
 "nbformat": 4,
 "nbformat_minor": 5
}
