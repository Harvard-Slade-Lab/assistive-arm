{
 "cells": [
  {
   "cell_type": "code",
   "execution_count": null,
   "metadata": {},
   "outputs": [],
   "source": [
    "%load_ext autoreload\n",
    "%autoreload 2"
   ]
  },
  {
   "cell_type": "code",
   "execution_count": null,
   "metadata": {},
   "outputs": [],
   "source": [
    "import os\n",
    "import numpy as np\n",
    "import pandas as pd\n",
    "from pathlib import Path\n",
    "import yaml\n",
    "\n",
    "import matplotlib.pyplot as plt\n",
    "import matplotlib.ticker as mticker\n",
    "\n",
    "os.chdir(Path(os.getcwd()).parent)\n",
    "from assistive_arm.utils.data_preprocessing import prepare_opencap_markers\n",
    "from assistive_arm.utils.optimum_length_utils import compute_torque_profiles, get_jacobian, get_rotation_matrix\n",
    "from assistive_arm.utils.plotting import create_torque_plot"
   ]
  },
  {
   "cell_type": "markdown",
   "metadata": {},
   "source": [
    "## Read data"
   ]
  },
  {
   "cell_type": "markdown",
   "metadata": {},
   "source": [
    "### Marker data"
   ]
  },
  {
   "cell_type": "code",
   "execution_count": null,
   "metadata": {},
   "outputs": [],
   "source": [
    "subject = \"subject_1\"\n",
    "subject_data = Path(\"/Users/xabieririzar/Desktop/Life/Studium/TUM/Master_Robotics/Harvard/Thesis/subject_testing/subject_data/\") / subject\n",
    "trial = subject_data / \"trial_2\"\n",
    "\n",
    "project_moco_data = Path(\"/Users/xabieririzar/uni-projects/Harvard/assistive-arm/moco/\")\n",
    "control_solutions = project_moco_data / \"control_solutions\"\n",
    "\n",
    "# Set directories\n",
    "opencap_markers = pd.read_csv(trial / \"opencap_tracker.trc\", delimiter=\"\\t\", skiprows=3).tail(-1)\n",
    "filtered_markers = prepare_opencap_markers(opencap_markers)\n",
    "\n",
    "# Read solution and yaml config\n",
    "solution_path = control_solutions / \"opencap_simple_assistance_false_2023-09-22_17-13.sto\"\n",
    "control_solution = pd.read_csv(solution_path, delimiter=\"\\t\", skiprows=18)\n",
    "config_path = control_solutions / f\"{solution_path.stem}.yaml\"\n",
    "\n",
    "try:\n",
    "    with open(config_path, \"r\") as f:\n",
    "        config_file = yaml.load(f, Loader=yaml.FullLoader)\n",
    "except FileNotFoundError:\n",
    "    print(f\"No config file found at {config_path}\")\n"
   ]
  },
  {
   "cell_type": "markdown",
   "metadata": {},
   "source": [
    "### Get pelvis marker and set it as human anchoring position"
   ]
  },
  {
   "cell_type": "code",
   "execution_count": null,
   "metadata": {},
   "outputs": [],
   "source": [
    "pelvis_x = (filtered_markers[\"r.PSIS_study\"].X + filtered_markers[\"L.PSIS_study\"].X)/2 \n",
    "pelvis_y = (filtered_markers[\"r.PSIS_study\"].Y + filtered_markers[\"L.PSIS_study\"].Y)/2 \n",
    "pelvis_z = (filtered_markers[\"r.PSIS_study\"].Z + filtered_markers[\"L.PSIS_study\"].Z)/2 \n",
    "\n",
    "pelvis_marker = pd.DataFrame({\"Time\": filtered_markers.Time.t, \"X\": pelvis_x, \"Y\": pelvis_y, \"Z\": pelvis_z})\n",
    "pelvis_marker = pelvis_marker[(pelvis_marker.Time >= 1.8) & (pelvis_marker.Time <= 3.2)].reset_index(drop=True)\n",
    "pelvis_marker.set_index(\"Time\", inplace=True)\n",
    "new_index = pd.Index(np.arange(pelvis_marker.index.min(), pelvis_marker.index.max() + 0.025, step=0.025), name=\"Time\")\n",
    "pelvis_marker_aligned = pelvis_marker.reindex(new_index, method=\"nearest\")\n"
   ]
  },
  {
   "cell_type": "markdown",
   "metadata": {},
   "source": [
    "### Read assistive force profile"
   ]
  },
  {
   "cell_type": "code",
   "execution_count": null,
   "metadata": {},
   "outputs": [],
   "source": [
    "assistive_force = control_solution[[\"time\", \"/forceset/reserve_jointset_ground_pelvis_pelvis_tx\", \"/forceset/reserve_jointset_ground_pelvis_pelvis_ty\"]]\n",
    "assistive_force.set_index(\"time\", inplace=True)\n",
    "assistive_force.columns = [\"X\", \"Y\"]\n",
    "assistive_force.insert(2, \"Z\", 0)\n",
    "assistive_force *= 100\n",
    "assistive_force *= 2/3"
   ]
  },
  {
   "cell_type": "markdown",
   "metadata": {},
   "source": [
    "## Calculate optimal link length ratio"
   ]
  },
  {
   "cell_type": "markdown",
   "metadata": {},
   "source": [
    "### Get distance vector from pelvis to anchor point"
   ]
  },
  {
   "cell_type": "code",
   "execution_count": null,
   "metadata": {},
   "outputs": [],
   "source": [
    "chair_position = np.array([-0.6, 0.5, -0.075])\n",
    "pelvis_to_chair = chair_position - pelvis_marker_aligned\n",
    "\n",
    "print(f\"Anchoring point on bench: {pelvis_to_chair.X.iloc[0]:.3f}m away from pelvis\")\n"
   ]
  },
  {
   "cell_type": "markdown",
   "metadata": {},
   "source": [
    "### Calculate optimal length"
   ]
  },
  {
   "cell_type": "code",
   "execution_count": null,
   "metadata": {},
   "outputs": [],
   "source": [
    "min_necessary_length = np.linalg.norm(pelvis_to_chair, axis=1).max()\n",
    "\n",
    "print(\"Minimum total length: \", min_necessary_length)\n",
    "\n",
    "resolution = 30\n",
    "\n",
    "link_lengths_1 = np.linspace(0.1, 1, resolution)\n",
    "link_lengths_2 = np.linspace(0.1, 1, resolution)\n",
    "link_lengths_1 = link_lengths_1[link_lengths_1 < min_necessary_length]\n",
    "link_lengths_2 = link_lengths_2[link_lengths_2 < min_necessary_length]\n",
    "\n",
    "# Set joint angle limits (degrees)\n",
    "theta_1_lims = np.deg2rad([0, 180])\n",
    "theta_2_lims = np.deg2rad([-145, 145])\n",
    "\n",
    "results = []\n",
    "\n",
    "for l1 in link_lengths_1:\n",
    "    for l2 in link_lengths_2:\n",
    "        if l1 + l2 < min_necessary_length:\n",
    "            continue\n",
    "        \n",
    "        torques, joint_angles, jacobians = compute_torque_profiles(l1, l2, F=assistive_force, position=pelvis_to_chair)\n",
    "\n",
    "        # Don't include invalid values\n",
    "        if np.any(np.isnan(torques)) or np.any(np.isnan(joint_angles)):\n",
    "            continue\n",
    "\n",
    "        result = {\n",
    "            'l1': l1,\n",
    "            'l2': l2,\n",
    "            'tau_1': torques[:, 0],\n",
    "            'tau_2': torques[:, 1],\n",
    "            'theta_1': joint_angles.theta_1,\n",
    "            'theta_2': joint_angles.theta_2,\n",
    "            'jacobians': jacobians,\n",
    "        }\n",
    "        results.append(result)"
   ]
  },
  {
   "cell_type": "markdown",
   "metadata": {},
   "source": [
    "### Filter out infeasible torque profiles"
   ]
  },
  {
   "cell_type": "code",
   "execution_count": null,
   "metadata": {},
   "outputs": [],
   "source": [
    "def check_theta(series, theta_lims):\n",
    "    return series.apply(lambda x: theta_lims[0] <= x <= theta_lims[1]).all()\n",
    "\n",
    "feasible_profiles = pd.DataFrame(results)\n",
    "feasible_profiles.dropna(inplace=True)\n",
    "\n",
    "# Filter out solutions that are outside of the joint angle limits\n",
    "feasible_profiles = feasible_profiles[feasible_profiles[\"theta_1\"].apply(check_theta, theta_lims=theta_2_lims) & feasible_profiles[\"theta_2\"].apply(check_theta, theta_lims=theta_2_lims)]"
   ]
  },
  {
   "cell_type": "markdown",
   "metadata": {},
   "source": [
    "### Get ideal torque combination"
   ]
  },
  {
   "cell_type": "code",
   "execution_count": null,
   "metadata": {},
   "outputs": [],
   "source": [
    "# Get link lengths that minimizes the peak torque for both motors\n",
    "torques = feasible_profiles[[\"tau_1\", \"tau_2\"]].map(lambda x: np.abs(x).max())\n",
    "min_overall_torque = np.linalg.norm(torques, axis=1)\n",
    "min_torque_loc = min_overall_torque.argmin()\n",
    "\n",
    "l1, l2, tau_1, tau_2, theta_1, theta_2, jacobians = feasible_profiles.iloc[min_torque_loc]\n",
    "\n",
    "optimal_profile = pd.DataFrame({'theta_1': theta_1, 'theta_2': theta_2, 'tau_1': tau_1, 'tau_2': tau_2})\n",
    "\n",
    "control_solutions"
   ]
  },
  {
   "cell_type": "markdown",
   "metadata": {},
   "source": [
    "### Calculate necessary bar length based on offset from rotational axis and link inserts"
   ]
  },
  {
   "cell_type": "code",
   "execution_count": null,
   "metadata": {},
   "outputs": [],
   "source": [
    "bar_1 = l1 - 0.103 # Constants based on CAD model (dist from bar to rot axis)\n",
    "bar_2 = l2 - 0.081125\n",
    "print(f\"Bar 1: {bar_1:.3f} m\")\n",
    "print(f\"Bar 2: {bar_2:.3f} m\")"
   ]
  },
  {
   "cell_type": "code",
   "execution_count": null,
   "metadata": {},
   "outputs": [],
   "source": [
    "create_torque_plot(torques=torques, feasible_profiles=feasible_profiles, l1=l1, l2=l2)"
   ]
  },
  {
   "cell_type": "markdown",
   "metadata": {},
   "source": [
    "### Calculate End Effector and Elbow trajecotries based on optimal link length"
   ]
  },
  {
   "cell_type": "code",
   "execution_count": null,
   "metadata": {},
   "outputs": [],
   "source": [
    "rotate_90 = get_rotation_matrix(90)\n",
    "\n",
    "P_EE = np.array([l1*np.cos(theta_1) + l2*np.cos(theta_1 + theta_2), l1*np.sin(theta_1) + l2*np.sin(theta_1 + theta_2), theta_1 + theta_2])\n",
    "P_L1 = np.array([l1*np.cos(theta_1), l1*np.sin(theta_1), np.zeros(theta_1.shape)])\n",
    "\n",
    "optimal_profile['X'] = P_EE[0, :]\n",
    "optimal_profile['Y'] = P_EE[1, :]\n",
    "optimal_profile['theta_1_2'] = P_EE[2, :]\n",
    "\n",
    "profile_path = Path(trial / \"optimal_profile.csv\")\n",
    "optimal_profile.to_csv(profile_path)"
   ]
  },
  {
   "cell_type": "code",
   "execution_count": null,
   "metadata": {},
   "outputs": [],
   "source": [
    "plt.scatter(P_EE[0], P_EE[1], c=pelvis_to_chair.index, cmap=\"ocean\", label=\"Current\")\n",
    "plt.colorbar()\n",
    "plt.plot(0, 0, \"o\", c=\"r\")\n",
    "plt.xlabel(\"X\")\n",
    "plt.ylabel(\"Y\")\n",
    "plt.legend()\n",
    "plt.show()"
   ]
  },
  {
   "cell_type": "code",
   "execution_count": null,
   "metadata": {},
   "outputs": [],
   "source": [
    "rotate_90 = get_rotation_matrix(90)\n",
    "\n",
    "timestep = 0\n",
    "plt.figure(figsize=(5, 5))\n",
    "ax = plt.axes(projection='3d')\n",
    "ax.view_init(azim=-90, elev=90)\n",
    "\n",
    "pelvis_pos = pelvis_marker_aligned.iloc[timestep]\n",
    "pelvis_chair = pelvis_to_chair.iloc[timestep].T\n",
    "\n",
    "l1_vector = rotate_90 @ P_L1.T[timestep, :]\n",
    "l1_origin = pelvis_pos\n",
    "l1_pos = pelvis_pos + l1_vector\n",
    "\n",
    "l2_pos = rotate_90 @ P_EE.T[timestep, :]\n",
    "l2_origin = l1_pos\n",
    "l2_vector = l2_pos - l1_vector\n",
    "\n",
    "ee_pos = pelvis_pos + l2_pos\n",
    "\n",
    "ax.scatter(*pelvis_pos, color=\"b\")\n",
    "ax.text(*pelvis_pos, \"Pelvis\")\n",
    "\n",
    "ax.scatter(*l1_pos, color=\"g\")\n",
    "ax.text(*l1_pos, \"L1\")\n",
    "\n",
    "ax.scatter(*chair_position, color=\"r\")\n",
    "ax.text(*chair_position, \"Chair\")\n",
    "\n",
    "origin = [0, 0, 0]\n",
    "ax.scatter(*origin, color=\"k\")\n",
    "\n",
    "# ax.quiver(*pelvis_pos, *pelvis_chair, color=\"b\")\n",
    "ax.quiver(*l1_origin, *l1_vector, color=\"b\")\n",
    "ax.quiver(*l2_origin, *l2_vector, color=\"b\")\n",
    "ax.set_xlim([-1.2, pelvis_marker_aligned.X.max()])\n",
    "ax.set_ylim([0, 1.1])\n",
    "\n",
    "ax.set_xlabel('X')\n",
    "ax.set_ylabel('Y')\n",
    "ax.set_zlabel('Z')\n",
    "ax.set_title('Pelvis marker and Vector at time {}'.format(timestep))\n",
    "\n",
    "plt.show()"
   ]
  },
  {
   "cell_type": "code",
   "execution_count": null,
   "metadata": {},
   "outputs": [],
   "source": [
    "time_vector = (assistive_force.index - assistive_force.index.min())/(assistive_force.index.max() - assistive_force.index.min())* 100\n",
    "\n",
    "\n",
    "torque_profile = pd.DataFrame({\"tau_1\": tau_1, 'tau_2': tau_2}, index=time_vector)\n",
    "\n",
    "theta_1_dot = np.gradient(theta_1) / assistive_force.index.diff()\n",
    "theta_2_dot = np.gradient(theta_2) / assistive_force.index.diff()"
   ]
  },
  {
   "cell_type": "code",
   "execution_count": null,
   "metadata": {},
   "outputs": [],
   "source": [
    "fig, axs = plt.subplots(2, 2, figsize=(10, 5), sharex=True)\n",
    "fig.suptitle(f\"L1: {float(l1):.2f} m, L2: {float(l2):.2f} m\")\n",
    "axs[0, 0].plot(time_vector, assistive_force)\n",
    "axs[0, 0].set_ylabel(\"Force (N)\")\n",
    "axs[0, 0].legend([\"X\", \"Y\", \"Z\"])\n",
    "axs[0, 0].grid()\n",
    "\n",
    "axs[1, 0].plot(time_vector, tau_1, label=\"tau_1\")\n",
    "axs[1, 0].plot(time_vector, tau_2, label=\"tau_2\")\n",
    "axs[1, 0].legend()\n",
    "axs[1, 0].set_xlabel(\"% of Motion\")\n",
    "axs[1, 0].set_ylabel(\"Torque (Nm)\")\n",
    "axs[1, 0].grid()\n",
    "\n",
    "axs[0, 1].plot(time_vector, theta_1, label=\"theta_1\", color=\"C0\")\n",
    "axs[0, 1].axhline(y=theta_1_lims[0], linestyle=\"--\", color=\"C0\")\n",
    "axs[0, 1].axhline(y=theta_1_lims[1], linestyle=\"--\", color=\"C0\")\n",
    "axs[0, 1].plot(time_vector, theta_2, label=\"theta_2\", color=\"orange\")\n",
    "axs[0, 1].axhline(y=theta_2_lims[0], linestyle=\"--\", color=\"orange\")\n",
    "axs[0, 1].axhline(y=theta_2_lims[1], linestyle=\"--\", color=\"orange\")\n",
    "axs[0, 1].legend()\n",
    "axs[0, 1].set_ylabel(\"rad\")\n",
    "axs[0, 1].grid()\n",
    "\n",
    "# Add dashed line for max rad/s with label\n",
    "axs[1, 1].plot(time_vector, theta_1_dot, label=\"theta_1_dot\")\n",
    "axs[1, 1].plot(time_vector, theta_2_dot, label=\"theta_2_dot\")\n",
    "axs[1, 1].axhline(y=15.5, linestyle=\"--\", color=\"k\")\n",
    "axs[1, 1].axhline(y=-15.5, linestyle=\"--\", color=\"k\")\n",
    "axs[1, 1].legend()\n",
    "axs[1, 1].set_xlabel(\"% of Motion\")\n",
    "axs[1, 1].set_ylabel(\"rad/s\")\n",
    "axs[1, 1].grid()"
   ]
  }
 ],
 "metadata": {
  "kernelspec": {
   "display_name": "Python 3 (ipykernel)",
   "language": "python",
   "name": "python3"
  },
  "language_info": {
   "codemirror_mode": {
    "name": "ipython",
    "version": 3
   },
   "file_extension": ".py",
   "mimetype": "text/x-python",
   "name": "python",
   "nbconvert_exporter": "python",
   "pygments_lexer": "ipython3",
   "version": "3.10.14"
  }
 },
 "nbformat": 4,
 "nbformat_minor": 4
}
