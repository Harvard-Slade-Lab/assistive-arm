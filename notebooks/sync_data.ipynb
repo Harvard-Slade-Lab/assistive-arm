{
 "cells": [
  {
   "cell_type": "code",
   "execution_count": null,
   "metadata": {},
   "outputs": [],
   "source": [
    "%load_ext autoreload\n",
    "%autoreload 2\n",
    "\n",
    "import os\n",
    "import pandas as pd\n",
    "import numpy as np\n",
    "\n",
    "from pathlib import Path\n",
    "\n",
    "import matplotlib.pyplot as plt\n",
    "\n",
    "from assistive_arm.utils.plotting import plot_knee_coordinates, plot_mocap_forces\n",
    "from assistive_arm.utils.data_preprocessing import prepare_mocap_data, prepare_opencap_markers, prepare_mocap_force_df, read_headers, export_filtered_force, sync_mocap_with_opencap, transform_force_coordinates\n",
    "from assistive_arm.utils.file_modification import modify_force_xml"
   ]
  },
  {
   "cell_type": "markdown",
   "metadata": {},
   "source": [
    "## Read data"
   ]
  },
  {
   "cell_type": "code",
   "execution_count": null,
   "metadata": {},
   "outputs": [],
   "source": [
    "subject = \"subject_4\"\n",
    "subject_data = Path(\"/Users/xabieririzar/Desktop/Life/Studium/TUM/M.Sc Robotics/Masterarbeit Harvard/Thesis/Subject testing/Subject data/\") / subject\n",
    "project_moco_data = Path(\"/Users/xabieririzar/uni-projects/Harvard/assistive-arm/moco/\")\n",
    "\n",
    "# Set directories\n",
    "trial = subject_data / \"trial_3\"\n",
    "figures_path = trial / \"Plots\"\n",
    "\n",
    "if not os.path.exists(figures_path):\n",
    "    os.makedirs(figures_path)\n",
    "\n",
    "right_foot = trial / \"mocap_f_20.tsv\"\n",
    "left_foot = trial / \"mocap_f_21.tsv\"\n",
    "\n",
    "sides_plates = {\"r\": right_foot, \"l\": left_foot}\n",
    "\n",
    "if int(subject[-1]) > 1:\n",
    "    right_foot = trial / \"mocap_f_16.tsv\"\n",
    "    left_foot = trial / \"mocap_f_17.tsv\"\n",
    "    chair_force = trial / \"mocap_f_20.tsv\"\n",
    "    sides_plates = {\"r\": right_foot, \"l\": left_foot, \"chair\": chair_force}\n"
   ]
  },
  {
   "cell_type": "code",
   "execution_count": null,
   "metadata": {},
   "outputs": [],
   "source": [
    "modify_force_xml('../moco/forces/grf_sit_stand.xml', str(trial / \"grf_filtered.mot\"))"
   ]
  },
  {
   "cell_type": "code",
   "execution_count": null,
   "metadata": {},
   "outputs": [],
   "source": [
    "# Read force data\n",
    "mocap_forces = {}\n",
    "\n",
    "for side, plate in sides_plates.items():\n",
    "    # It must always be in this order\n",
    "    col_names = [\n",
    "        f\"ground_force_{side}_vx\",\n",
    "        f\"ground_force_{side}_vy\",\n",
    "        f\"ground_force_{side}_vz\",\n",
    "        f\"ground_force_{side}_px\",\n",
    "        f\"ground_force_{side}_py\",\n",
    "        f\"ground_force_{side}_pz\",\n",
    "        f\"ground_torque_{side}_x\",\n",
    "        f\"ground_torque_{side}_y\",\n",
    "        f\"ground_torque_{side}_z\",\n",
    "        \"nan\"]\n",
    "    mocap_forces[side] = {\"headers\": None, \"data\": None}\n",
    "    headers = read_headers(plate, 25)\n",
    "    mocap_forces[side][\"headers\"] = headers[9:21]\n",
    "    mocap_forces[side][\"data\"] = pd.read_csv(\n",
    "        plate, \n",
    "        delimiter=\"\\t\", \n",
    "        skiprows=26, \n",
    "        names=[f\"ground_force_{side}_vx\", f\"ground_force_{side}_vy\", f\"ground_force_{side}_vz\", f\"ground_torque_{side}_x\", f\"ground_torque_{side}_y\", f\"ground_torque_{side}_z\", f\"ground_force_{side}_px\", f\"ground_force_{side}_py\", f\"ground_force_{side}_pz\", \"nan\"])\n",
    "    mocap_forces[side][\"data\"] = mocap_forces[side][\"data\"].reindex(columns=col_names)\n",
    "print(\"FP Frequency: \", headers[1][1])\n",
    "\n",
    "# Read mocap marker data\n",
    "mocap_headers = read_headers(trial / \"mocap_markers.tsv\", 10)\n",
    "mocap_headers = {header[0]: header[1:] for header in mocap_headers}\n",
    "print(\"Marker frequency: \", mocap_headers[\"FREQUENCY\"][0])\n",
    "mocap_marker_names = mocap_headers[\"MARKER_NAMES\"] # Read row 10 and get marker names\n",
    "mocap_markers_unsynced = pd.read_csv(trial / \"mocap_markers.tsv\", delimiter=\"\\t\", skiprows=11)\n",
    "\n",
    "# Read opencap marker data\n",
    "headers = read_headers(trial / \"opencap_tracker.trc\", 3)\n",
    "print(\"Opencap frequency: \", headers[2][1])\n",
    "opencap_markers_unsynced = pd.read_csv(trial / \"opencap_tracker.trc\", delimiter=\"\\t\", skiprows=3).tail(-1)\n",
    "\n",
    "if int(mocap_headers[\"FREQUENCY\"][0]) > int(float(headers[2][1])):\n",
    "    mocap_markers_unsynced = mocap_markers_unsynced[::2]\n",
    "    mocap_markers_unsynced.reset_index(drop=True, inplace=True)\n",
    "    for side in mocap_forces:\n",
    "        mocap_forces[side][\"data\"] = mocap_forces[side][\"data\"][::2]\n",
    "        mocap_forces[side][\"data\"].reset_index(drop=True, inplace=True)"
   ]
  },
  {
   "cell_type": "markdown",
   "metadata": {},
   "source": [
    "## Process data"
   ]
  },
  {
   "cell_type": "code",
   "execution_count": null,
   "metadata": {},
   "outputs": [],
   "source": [
    "# Prepare mocap data\n",
    "mocap_markers_unsynced = prepare_mocap_data(df=mocap_markers_unsynced, marker_names=mocap_marker_names)\n",
    "opencap_markers_unsynced = prepare_opencap_markers(opencap_markers_unsynced)\n",
    "mocap_forces_in_world_frame = prepare_mocap_force_df(force_plate_data=mocap_forces, forces_in_world=True)"
   ]
  },
  {
   "cell_type": "code",
   "execution_count": null,
   "metadata": {},
   "outputs": [],
   "source": [
    "plot_knee_coordinates(opencap_markers=opencap_markers_unsynced, mocap_markers=mocap_markers_unsynced, subject=subject, trial=trial.stem, output_path=figures_path / \"opencap_mocap_markers.png\")"
   ]
  },
  {
   "cell_type": "code",
   "execution_count": null,
   "metadata": {},
   "outputs": [],
   "source": [
    "plot_mocap_forces(opencap_markers=opencap_markers_unsynced, mocap_markers=mocap_markers_unsynced, mocap_forces=mocap_forces_in_world_frame, force_plates=sides_plates, output_path=figures_path / \"unfiltered\")"
   ]
  },
  {
   "cell_type": "code",
   "execution_count": null,
   "metadata": {},
   "outputs": [],
   "source": [
    "opencap_origin = mocap_markers_unsynced.Origin.mean(axis=0)\n",
    "mocap_forces_in_opencap_frame = transform_force_coordinates(force_trial=mocap_forces_in_world_frame, new_origin=opencap_origin, plates=sides_plates)\n",
    "mocap_markers_synced, mocap_forces_in_opencap_frame, opencap_markers_synced, lag = sync_mocap_with_opencap(mocap_data=mocap_markers_unsynced, force_data=mocap_forces_in_opencap_frame, opencap_data=opencap_markers_unsynced)"
   ]
  },
  {
   "cell_type": "code",
   "execution_count": null,
   "metadata": {},
   "outputs": [],
   "source": [
    "plot_mocap_forces(opencap_markers=opencap_markers_synced, mocap_markers=mocap_markers_synced, mocap_forces=mocap_forces_in_opencap_frame, force_plates=sides_plates, output_path=figures_path / \"filtered_marker_forces.png\")"
   ]
  },
  {
   "cell_type": "code",
   "execution_count": null,
   "metadata": {},
   "outputs": [],
   "source": [
    "plot_knee_coordinates(opencap_markers=opencap_markers_synced, mocap_markers=mocap_markers_synced, subject=subject, trial=trial.stem, output_path=figures_path)"
   ]
  },
  {
   "cell_type": "code",
   "execution_count": null,
   "metadata": {},
   "outputs": [],
   "source": [
    "export_filtered_force(mocap_forces_in_opencap_frame, trial / f\"grf_filtered.mot\")"
   ]
  }
 ],
 "metadata": {
  "kernelspec": {
   "display_name": ".venv",
   "language": "python",
   "name": "python3"
  },
  "language_info": {
   "codemirror_mode": {
    "name": "ipython",
    "version": 3
   },
   "file_extension": ".py",
   "mimetype": "text/x-python",
   "name": "python",
   "nbconvert_exporter": "python",
   "pygments_lexer": "ipython3",
   "version": "3.10.13"
  },
  "orig_nbformat": 4
 },
 "nbformat": 4,
 "nbformat_minor": 2
}
