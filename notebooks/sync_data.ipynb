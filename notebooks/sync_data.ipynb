{
 "cells": [
  {
   "cell_type": "code",
   "execution_count": 1,
   "metadata": {},
   "outputs": [],
   "source": [
    "%load_ext autoreload\n",
    "%autoreload 2\n",
    "\n",
    "import os\n",
    "import pandas as pd\n",
    "import numpy as np\n",
    "\n",
    "from pathlib import Path\n",
    "from typing import Tuple\n",
    "\n",
    "import matplotlib.pyplot as plt\n",
    "\n",
    "os.chdir(\"..\")\n",
    "from assistive_arm.utils.data_preprocessing import prepare_mocap_data, prepare_opencap_data, prepare_mocap_force_data, read_headers, export_filtered_force"
   ]
  },
  {
   "cell_type": "markdown",
   "metadata": {},
   "source": [
    "## Read data"
   ]
  },
  {
   "cell_type": "code",
   "execution_count": 4,
   "metadata": {},
   "outputs": [
    {
     "ename": "FileNotFoundError",
     "evalue": "[Errno 2] No such file or directory: '/Users/xabieririzar/Desktop/Life/Studium/TUM/M.Sc Robotics/Masterarbeit Harvard/Thesis/Subject data/haedo_data/mocap_data/sit_stand0002_f_20.tsv'",
     "output_type": "error",
     "traceback": [
      "\u001b[0;31m---------------------------------------------------------------------------\u001b[0m",
      "\u001b[0;31mFileNotFoundError\u001b[0m                         Traceback (most recent call last)",
      "Cell \u001b[0;32mIn[4], line 10\u001b[0m\n\u001b[1;32m      7\u001b[0m opencap_markers \u001b[39m=\u001b[39m opencap_data \u001b[39m/\u001b[39m \u001b[39m\"\u001b[39m\u001b[39mMarkerData\u001b[39m\u001b[39m\"\u001b[39m\n\u001b[1;32m      9\u001b[0m \u001b[39m# Read force data trial 1\u001b[39;00m\n\u001b[0;32m---> 10\u001b[0m mocap_force_trial_1_right \u001b[39m=\u001b[39m pd\u001b[39m.\u001b[39;49mread_csv(\n\u001b[1;32m     11\u001b[0m     mocap_data \u001b[39m/\u001b[39;49m \u001b[39m\"\u001b[39;49m\u001b[39msit_stand0002_f_20.tsv\u001b[39;49m\u001b[39m\"\u001b[39;49m, \n\u001b[1;32m     12\u001b[0m     delimiter\u001b[39m=\u001b[39;49m\u001b[39m\"\u001b[39;49m\u001b[39m\\t\u001b[39;49;00m\u001b[39m\"\u001b[39;49m, \n\u001b[1;32m     13\u001b[0m     skiprows\u001b[39m=\u001b[39;49m\u001b[39m26\u001b[39;49m, \n\u001b[1;32m     14\u001b[0m     names\u001b[39m=\u001b[39;49m[\u001b[39m\"\u001b[39;49m\u001b[39mground_force_r_vx\u001b[39;49m\u001b[39m\"\u001b[39;49m, \u001b[39m\"\u001b[39;49m\u001b[39mground_force_r_vy\u001b[39;49m\u001b[39m\"\u001b[39;49m, \u001b[39m\"\u001b[39;49m\u001b[39mground_force_r_vz\u001b[39;49m\u001b[39m\"\u001b[39;49m, \u001b[39m\"\u001b[39;49m\u001b[39mground_force_r_px\u001b[39;49m\u001b[39m\"\u001b[39;49m, \u001b[39m\"\u001b[39;49m\u001b[39mground_force_r_py\u001b[39;49m\u001b[39m\"\u001b[39;49m, \u001b[39m\"\u001b[39;49m\u001b[39mground_force_r_pz\u001b[39;49m\u001b[39m\"\u001b[39;49m, \u001b[39m\"\u001b[39;49m\u001b[39mground_torque_r_x\u001b[39;49m\u001b[39m\"\u001b[39;49m, \u001b[39m\"\u001b[39;49m\u001b[39mground_torque_r_y\u001b[39;49m\u001b[39m\"\u001b[39;49m, \u001b[39m\"\u001b[39;49m\u001b[39mground_torque_r_z\u001b[39;49m\u001b[39m\"\u001b[39;49m, \u001b[39m\"\u001b[39;49m\u001b[39mnan\u001b[39;49m\u001b[39m\"\u001b[39;49m])\n\u001b[1;32m     15\u001b[0m mocap_force_trial_1_left \u001b[39m=\u001b[39m pd\u001b[39m.\u001b[39mread_csv(\n\u001b[1;32m     16\u001b[0m     mocap_data \u001b[39m/\u001b[39m \u001b[39m\"\u001b[39m\u001b[39msit_stand0002_f_21.tsv\u001b[39m\u001b[39m\"\u001b[39m, \n\u001b[1;32m     17\u001b[0m     delimiter\u001b[39m=\u001b[39m\u001b[39m\"\u001b[39m\u001b[39m\\t\u001b[39;00m\u001b[39m\"\u001b[39m,\n\u001b[1;32m     18\u001b[0m     skiprows\u001b[39m=\u001b[39m\u001b[39m26\u001b[39m, \n\u001b[1;32m     19\u001b[0m     names\u001b[39m=\u001b[39m[\u001b[39m\"\u001b[39m\u001b[39mground_force_l_vx\u001b[39m\u001b[39m\"\u001b[39m, \u001b[39m\"\u001b[39m\u001b[39mground_force_l_vy\u001b[39m\u001b[39m\"\u001b[39m, \u001b[39m\"\u001b[39m\u001b[39mground_force_l_vz\u001b[39m\u001b[39m\"\u001b[39m, \u001b[39m\"\u001b[39m\u001b[39mground_force_l_px\u001b[39m\u001b[39m\"\u001b[39m, \u001b[39m\"\u001b[39m\u001b[39mground_force_l_py\u001b[39m\u001b[39m\"\u001b[39m, \u001b[39m\"\u001b[39m\u001b[39mground_force_l_pz\u001b[39m\u001b[39m\"\u001b[39m, \u001b[39m\"\u001b[39m\u001b[39mground_torque_l_x\u001b[39m\u001b[39m\"\u001b[39m, \u001b[39m\"\u001b[39m\u001b[39mground_torque_l_y\u001b[39m\u001b[39m\"\u001b[39m, \u001b[39m\"\u001b[39m\u001b[39mground_torque_l_z\u001b[39m\u001b[39m\"\u001b[39m, \u001b[39m\"\u001b[39m\u001b[39mnan\u001b[39m\u001b[39m\"\u001b[39m])\n\u001b[1;32m     21\u001b[0m \u001b[39m# Read mocap marker data\u001b[39;00m\n",
      "File \u001b[0;32m~/uni-projects/Harvard/assistive-arm/.venv/lib/python3.11/site-packages/pandas/io/parsers/readers.py:948\u001b[0m, in \u001b[0;36mread_csv\u001b[0;34m(filepath_or_buffer, sep, delimiter, header, names, index_col, usecols, dtype, engine, converters, true_values, false_values, skipinitialspace, skiprows, skipfooter, nrows, na_values, keep_default_na, na_filter, verbose, skip_blank_lines, parse_dates, infer_datetime_format, keep_date_col, date_parser, date_format, dayfirst, cache_dates, iterator, chunksize, compression, thousands, decimal, lineterminator, quotechar, quoting, doublequote, escapechar, comment, encoding, encoding_errors, dialect, on_bad_lines, delim_whitespace, low_memory, memory_map, float_precision, storage_options, dtype_backend)\u001b[0m\n\u001b[1;32m    935\u001b[0m kwds_defaults \u001b[39m=\u001b[39m _refine_defaults_read(\n\u001b[1;32m    936\u001b[0m     dialect,\n\u001b[1;32m    937\u001b[0m     delimiter,\n\u001b[0;32m   (...)\u001b[0m\n\u001b[1;32m    944\u001b[0m     dtype_backend\u001b[39m=\u001b[39mdtype_backend,\n\u001b[1;32m    945\u001b[0m )\n\u001b[1;32m    946\u001b[0m kwds\u001b[39m.\u001b[39mupdate(kwds_defaults)\n\u001b[0;32m--> 948\u001b[0m \u001b[39mreturn\u001b[39;00m _read(filepath_or_buffer, kwds)\n",
      "File \u001b[0;32m~/uni-projects/Harvard/assistive-arm/.venv/lib/python3.11/site-packages/pandas/io/parsers/readers.py:611\u001b[0m, in \u001b[0;36m_read\u001b[0;34m(filepath_or_buffer, kwds)\u001b[0m\n\u001b[1;32m    608\u001b[0m _validate_names(kwds\u001b[39m.\u001b[39mget(\u001b[39m\"\u001b[39m\u001b[39mnames\u001b[39m\u001b[39m\"\u001b[39m, \u001b[39mNone\u001b[39;00m))\n\u001b[1;32m    610\u001b[0m \u001b[39m# Create the parser.\u001b[39;00m\n\u001b[0;32m--> 611\u001b[0m parser \u001b[39m=\u001b[39m TextFileReader(filepath_or_buffer, \u001b[39m*\u001b[39;49m\u001b[39m*\u001b[39;49mkwds)\n\u001b[1;32m    613\u001b[0m \u001b[39mif\u001b[39;00m chunksize \u001b[39mor\u001b[39;00m iterator:\n\u001b[1;32m    614\u001b[0m     \u001b[39mreturn\u001b[39;00m parser\n",
      "File \u001b[0;32m~/uni-projects/Harvard/assistive-arm/.venv/lib/python3.11/site-packages/pandas/io/parsers/readers.py:1448\u001b[0m, in \u001b[0;36mTextFileReader.__init__\u001b[0;34m(self, f, engine, **kwds)\u001b[0m\n\u001b[1;32m   1445\u001b[0m     \u001b[39mself\u001b[39m\u001b[39m.\u001b[39moptions[\u001b[39m\"\u001b[39m\u001b[39mhas_index_names\u001b[39m\u001b[39m\"\u001b[39m] \u001b[39m=\u001b[39m kwds[\u001b[39m\"\u001b[39m\u001b[39mhas_index_names\u001b[39m\u001b[39m\"\u001b[39m]\n\u001b[1;32m   1447\u001b[0m \u001b[39mself\u001b[39m\u001b[39m.\u001b[39mhandles: IOHandles \u001b[39m|\u001b[39m \u001b[39mNone\u001b[39;00m \u001b[39m=\u001b[39m \u001b[39mNone\u001b[39;00m\n\u001b[0;32m-> 1448\u001b[0m \u001b[39mself\u001b[39m\u001b[39m.\u001b[39m_engine \u001b[39m=\u001b[39m \u001b[39mself\u001b[39;49m\u001b[39m.\u001b[39;49m_make_engine(f, \u001b[39mself\u001b[39;49m\u001b[39m.\u001b[39;49mengine)\n",
      "File \u001b[0;32m~/uni-projects/Harvard/assistive-arm/.venv/lib/python3.11/site-packages/pandas/io/parsers/readers.py:1705\u001b[0m, in \u001b[0;36mTextFileReader._make_engine\u001b[0;34m(self, f, engine)\u001b[0m\n\u001b[1;32m   1703\u001b[0m     \u001b[39mif\u001b[39;00m \u001b[39m\"\u001b[39m\u001b[39mb\u001b[39m\u001b[39m\"\u001b[39m \u001b[39mnot\u001b[39;00m \u001b[39min\u001b[39;00m mode:\n\u001b[1;32m   1704\u001b[0m         mode \u001b[39m+\u001b[39m\u001b[39m=\u001b[39m \u001b[39m\"\u001b[39m\u001b[39mb\u001b[39m\u001b[39m\"\u001b[39m\n\u001b[0;32m-> 1705\u001b[0m \u001b[39mself\u001b[39m\u001b[39m.\u001b[39mhandles \u001b[39m=\u001b[39m get_handle(\n\u001b[1;32m   1706\u001b[0m     f,\n\u001b[1;32m   1707\u001b[0m     mode,\n\u001b[1;32m   1708\u001b[0m     encoding\u001b[39m=\u001b[39;49m\u001b[39mself\u001b[39;49m\u001b[39m.\u001b[39;49moptions\u001b[39m.\u001b[39;49mget(\u001b[39m\"\u001b[39;49m\u001b[39mencoding\u001b[39;49m\u001b[39m\"\u001b[39;49m, \u001b[39mNone\u001b[39;49;00m),\n\u001b[1;32m   1709\u001b[0m     compression\u001b[39m=\u001b[39;49m\u001b[39mself\u001b[39;49m\u001b[39m.\u001b[39;49moptions\u001b[39m.\u001b[39;49mget(\u001b[39m\"\u001b[39;49m\u001b[39mcompression\u001b[39;49m\u001b[39m\"\u001b[39;49m, \u001b[39mNone\u001b[39;49;00m),\n\u001b[1;32m   1710\u001b[0m     memory_map\u001b[39m=\u001b[39;49m\u001b[39mself\u001b[39;49m\u001b[39m.\u001b[39;49moptions\u001b[39m.\u001b[39;49mget(\u001b[39m\"\u001b[39;49m\u001b[39mmemory_map\u001b[39;49m\u001b[39m\"\u001b[39;49m, \u001b[39mFalse\u001b[39;49;00m),\n\u001b[1;32m   1711\u001b[0m     is_text\u001b[39m=\u001b[39;49mis_text,\n\u001b[1;32m   1712\u001b[0m     errors\u001b[39m=\u001b[39;49m\u001b[39mself\u001b[39;49m\u001b[39m.\u001b[39;49moptions\u001b[39m.\u001b[39;49mget(\u001b[39m\"\u001b[39;49m\u001b[39mencoding_errors\u001b[39;49m\u001b[39m\"\u001b[39;49m, \u001b[39m\"\u001b[39;49m\u001b[39mstrict\u001b[39;49m\u001b[39m\"\u001b[39;49m),\n\u001b[1;32m   1713\u001b[0m     storage_options\u001b[39m=\u001b[39;49m\u001b[39mself\u001b[39;49m\u001b[39m.\u001b[39;49moptions\u001b[39m.\u001b[39;49mget(\u001b[39m\"\u001b[39;49m\u001b[39mstorage_options\u001b[39;49m\u001b[39m\"\u001b[39;49m, \u001b[39mNone\u001b[39;49;00m),\n\u001b[1;32m   1714\u001b[0m )\n\u001b[1;32m   1715\u001b[0m \u001b[39massert\u001b[39;00m \u001b[39mself\u001b[39m\u001b[39m.\u001b[39mhandles \u001b[39mis\u001b[39;00m \u001b[39mnot\u001b[39;00m \u001b[39mNone\u001b[39;00m\n\u001b[1;32m   1716\u001b[0m f \u001b[39m=\u001b[39m \u001b[39mself\u001b[39m\u001b[39m.\u001b[39mhandles\u001b[39m.\u001b[39mhandle\n",
      "File \u001b[0;32m~/uni-projects/Harvard/assistive-arm/.venv/lib/python3.11/site-packages/pandas/io/common.py:863\u001b[0m, in \u001b[0;36mget_handle\u001b[0;34m(path_or_buf, mode, encoding, compression, memory_map, is_text, errors, storage_options)\u001b[0m\n\u001b[1;32m    858\u001b[0m \u001b[39melif\u001b[39;00m \u001b[39misinstance\u001b[39m(handle, \u001b[39mstr\u001b[39m):\n\u001b[1;32m    859\u001b[0m     \u001b[39m# Check whether the filename is to be opened in binary mode.\u001b[39;00m\n\u001b[1;32m    860\u001b[0m     \u001b[39m# Binary mode does not support 'encoding' and 'newline'.\u001b[39;00m\n\u001b[1;32m    861\u001b[0m     \u001b[39mif\u001b[39;00m ioargs\u001b[39m.\u001b[39mencoding \u001b[39mand\u001b[39;00m \u001b[39m\"\u001b[39m\u001b[39mb\u001b[39m\u001b[39m\"\u001b[39m \u001b[39mnot\u001b[39;00m \u001b[39min\u001b[39;00m ioargs\u001b[39m.\u001b[39mmode:\n\u001b[1;32m    862\u001b[0m         \u001b[39m# Encoding\u001b[39;00m\n\u001b[0;32m--> 863\u001b[0m         handle \u001b[39m=\u001b[39m \u001b[39mopen\u001b[39;49m(\n\u001b[1;32m    864\u001b[0m             handle,\n\u001b[1;32m    865\u001b[0m             ioargs\u001b[39m.\u001b[39;49mmode,\n\u001b[1;32m    866\u001b[0m             encoding\u001b[39m=\u001b[39;49mioargs\u001b[39m.\u001b[39;49mencoding,\n\u001b[1;32m    867\u001b[0m             errors\u001b[39m=\u001b[39;49merrors,\n\u001b[1;32m    868\u001b[0m             newline\u001b[39m=\u001b[39;49m\u001b[39m\"\u001b[39;49m\u001b[39m\"\u001b[39;49m,\n\u001b[1;32m    869\u001b[0m         )\n\u001b[1;32m    870\u001b[0m     \u001b[39melse\u001b[39;00m:\n\u001b[1;32m    871\u001b[0m         \u001b[39m# Binary mode\u001b[39;00m\n\u001b[1;32m    872\u001b[0m         handle \u001b[39m=\u001b[39m \u001b[39mopen\u001b[39m(handle, ioargs\u001b[39m.\u001b[39mmode)\n",
      "\u001b[0;31mFileNotFoundError\u001b[0m: [Errno 2] No such file or directory: '/Users/xabieririzar/Desktop/Life/Studium/TUM/M.Sc Robotics/Masterarbeit Harvard/Thesis/Subject data/haedo_data/mocap_data/sit_stand0002_f_20.tsv'"
     ]
    }
   ],
   "source": [
    "haedo_data = Path(\"/Users/xabieririzar/Desktop/Life/Studium/TUM/M.Sc Robotics/Masterarbeit Harvard/Thesis/Subject data/haedo_data\")\n",
    "project_moco_data = Path(\"/Users/xabieririzar/uni-projects/Harvard/assistive-arm/moco/\")\n",
    "\n",
    "# Set directories\n",
    "opencap_data = haedo_data / \"opencap_data\"\n",
    "mocap_data = haedo_data / \"mocap_data\"\n",
    "opencap_markers = opencap_data / \"MarkerData\"\n",
    "\n",
    "# Read force data trial 1\n",
    "mocap_force_trial_1_right = pd.read_csv(\n",
    "    mocap_data / \"sit_stand0002_f_20.tsv\", \n",
    "    delimiter=\"\\t\", \n",
    "    skiprows=26, \n",
    "    names=[\"ground_force_r_vx\", \"ground_force_r_vy\", \"ground_force_r_vz\", \"ground_force_r_px\", \"ground_force_r_py\", \"ground_force_r_pz\", \"ground_torque_r_x\", \"ground_torque_r_y\", \"ground_torque_r_z\", \"nan\"])\n",
    "mocap_force_trial_1_left = pd.read_csv(\n",
    "    mocap_data / \"sit_stand0002_f_21.tsv\", \n",
    "    delimiter=\"\\t\",\n",
    "    skiprows=26, \n",
    "    names=[\"ground_force_l_vx\", \"ground_force_l_vy\", \"ground_force_l_vz\", \"ground_force_l_px\", \"ground_force_l_py\", \"ground_force_l_pz\", \"ground_torque_l_x\", \"ground_torque_l_y\", \"ground_torque_l_z\", \"nan\"])\n",
    "\n",
    "# Read mocap marker data\n",
    "mocap_marker_trial_1 = pd.read_csv(mocap_data / \"sit_stand0002.tsv\", delimiter=\"\\t\", skiprows=11, names=[\"X\", \"Y\", \"Z\"])\n",
    "\n",
    "# Read opencap marker data\n",
    "headers = read_headers(opencap_markers / \"sit_stand_2_w_grf.trc\", 3)\n",
    "            \n",
    "opencap_marker_trial_1 = pd.read_csv(opencap_markers / \"sit_stand_2_w_grf.trc\", delimiter=\"\\t\", skiprows=3).tail(-1)"
   ]
  },
  {
   "cell_type": "markdown",
   "metadata": {},
   "source": [
    "## Process data"
   ]
  },
  {
   "cell_type": "code",
   "execution_count": 11,
   "metadata": {},
   "outputs": [],
   "source": [
    "# Prepare mocap data\n",
    "mocap_marker_trial_1 = prepare_mocap_data(mocap_marker_trial_1)\n",
    "\n",
    "# Prepare opencap data\n",
    "opencap_marker_trial_1 = prepare_opencap_data(opencap_marker_trial_1)\n",
    "\n",
    "# Prepare and merge force data\n",
    "mocap_force_trial_1 = prepare_mocap_force_data(mocap_force_trial_1_right, mocap_force_trial_1_left)"
   ]
  },
  {
   "cell_type": "code",
   "execution_count": 12,
   "metadata": {},
   "outputs": [],
   "source": [
    "def xcorr_and_shift(x: np.ndarray, y: np.ndarray) -> Tuple[np.ndarray, int]:\n",
    "    \"\"\" Cross-correlate two signals and return the lag\n",
    "\n",
    "    Args:\n",
    "        x (np.ndarray): first signal\n",
    "        y (np.ndarray): second signal\n",
    "\n",
    "    Returns:\n",
    "        Tuple[np.ndarray, int]: tuple containing the cross-correlation and the lag\n",
    "    \"\"\"\n",
    "    # Pad the shorter signal with NaN\n",
    "    size_diff = len(x) - len(y)\n",
    "\n",
    "    if size_diff > 0:\n",
    "        y = np.pad(y, (0, size_diff), mode='constant', constant_values=np.nan)\n",
    "    elif size_diff < 0:\n",
    "        x = np.pad(x, (0, -size_diff), mode='constant', constant_values=np.nan)\n",
    "\n",
    "    # Compute cross-correlation and lag\n",
    "    correlation = np.correlate(x, y, 'full')\n",
    "    lag = round((np.argmax(correlation) - len(x) + 1)/4)\n",
    "    # Shift the 'y' signal based on the calculated lag\n",
    "    # y_shifted = np.roll(y, -lag)\n",
    "\n",
    "    return correlation, lag\n",
    "\n",
    "def sync_mocap_with_opencap(marker_data: pd.DataFrame, force_data: pd.DataFrame, opencap_data: pd.DataFrame) -> pd.DataFrame:\n",
    "    # Cut the mocap data such that it perfectly overlaps with opencap\n",
    "\n",
    "    _, lag = xcorr_and_shift(marker_data.X, opencap_data[\"LKnee\"].X)\n",
    "\n",
    "    # Shift the data by lag\n",
    "    marker_data = marker_data.iloc[-lag:-lag + opencap_data.shape[0]].reset_index(drop=True)\n",
    "    force_data = force_data.iloc[-lag*10:-lag*10 + opencap_data.shape[0]*10].reset_index(drop=True)\n",
    "    \n",
    "    force_data[\"time\"] = force_data[\"time\"] - force_data[\"time\"][0]\n",
    "    marker_data[\"timestamp\"] = marker_data[\"timestamp\"] - marker_data[\"timestamp\"][0]\n",
    "    \n",
    "    opencap_data = opencap_data.reset_index(drop=True)\n",
    "\n",
    "    return marker_data, force_data, opencap_data"
   ]
  },
  {
   "cell_type": "code",
   "execution_count": 13,
   "metadata": {},
   "outputs": [],
   "source": [
    "mocap_marker_trial_1, mocap_force_trial_1, opencap_marker_trial_1 = sync_mocap_with_opencap(marker_data=mocap_marker_trial_1, force_data=mocap_force_trial_1, opencap_data=opencap_marker_trial_1)"
   ]
  },
  {
   "cell_type": "code",
   "execution_count": 14,
   "metadata": {},
   "outputs": [],
   "source": [
    "export_filtered_force(mocap_force_trial_1, project_moco_data / \"forces\" / \"sit_stand0002_filtered.mot\")"
   ]
  },
  {
   "cell_type": "code",
   "execution_count": 24,
   "metadata": {},
   "outputs": [
    {
     "data": {
      "text/plain": [
       "-73.701096"
      ]
     },
     "execution_count": 24,
     "metadata": {},
     "output_type": "execute_result"
    }
   ],
   "source": [
    "mocap_force_trial_1.ground_force_r_px.min()"
   ]
  },
  {
   "cell_type": "code",
   "execution_count": null,
   "metadata": {},
   "outputs": [
    {
     "data": {
      "text/plain": [
       "<matplotlib.legend.Legend at 0x126c1a190>"
      ]
     },
     "execution_count": 16,
     "metadata": {},
     "output_type": "execute_result"
    },
    {
     "data": {
      "image/png": "[encoded data removed]",
      "text/plain": [
       "<Figure size 640x480 with 1 Axes>"
      ]
     },
     "metadata": {},
     "output_type": "display_data"
    }
   ],
   "source": [
    "plt.plot(mocap_marker_trial_1.timestamp, mocap_marker_trial_1.X, label=\"mocap\")\n",
    "plt.plot(mocap_force_trial_1.time, mocap_force_trial_1.ground_force_r_vx, label=\"mocap force\")\n",
    "plt.plot(mocap_force_trial_1.time, mocap_force_trial_1.ground_force_l_vx, label=\"mocap force\")\n",
    "plt.plot(opencap_marker_trial_1.Time.t, opencap_marker_trial_1[\"LKnee\"].X, label=\"opencap\")\n",
    "plt.legend()"
   ]
  },
  {
   "cell_type": "code",
   "execution_count": null,
   "metadata": {},
   "outputs": [],
   "source": [
    "fig, axs = plt.subplots(3, sharex=\"row\", figsize=(20, 10))\n",
    "\n",
    "# Plot X data\n",
    "axs[0].plot(opencap_marker_trial_1[\"Time\"].t, opencap_marker_trial_1[\"LKnee\"].X, label=\"LKnee X (opencap)\")\n",
    "axs[0].plot(mocap_marker_trial_1.time, mocap_marker_trial_1.X, label=\"LKnee X (mocap)\")\n",
    "#axs[0].plot(mocap_force_trial_1_right.time, mocap_force_trial_1_right.FPx, label=\"LKnee X (mocap force)\")\n",
    "axs[0].legend()\n",
    "\n",
    "# Plot Y data\n",
    "axs[1].plot(opencap_marker_trial_1[\"Time\"].t, opencap_marker_trial_1[\"LKnee\"].Y, label=\"LKnee Y (opencap)\")\n",
    "axs[1].plot(mocap_marker_trial_1.time, mocap_marker_trial_1.Y, label=\"LKnee Y (mocap)\")\n",
    "#axs[1].plot(mocap_force_trial_1_right.timestamp, mocap_force_trial_1_right.FPy, label=\"LKnee Y (mocap force)\")\n",
    "axs[1].legend()\n",
    "\n",
    "# Plot Z data\n",
    "axs[2].plot(opencap_marker_trial_1[\"Time\"].t, opencap_marker_trial_1[\"LKnee\"].Z, label=\"LKnee Z (opencap)\")\n",
    "axs[2].plot(mocap_marker_trial_1.time, mocap_marker_trial_1.Z, label=\"LKnee Z (mocap)\")\n",
    "#axs[2].plot(mocap_force_trial_1_right.time, mocap_force_trial_1_right.FPz, label=\"LKnee Z (mocap force)\")\n",
    "axs[2].legend()\n",
    "\n",
    "axs[0].autoscale(axis='y', tight=True)\n",
    "axs[1].autoscale(axis='y', tight=True)\n",
    "axs[2].autoscale(axis='y', tight=True)\n",
    "\n",
    "# Display the plot\n",
    "plt.show()"
   ]
  }
 ],
 "metadata": {
  "kernelspec": {
   "display_name": ".venv",
   "language": "python",
   "name": "python3"
  },
  "language_info": {
   "codemirror_mode": {
    "name": "ipython",
    "version": 3
   },
   "file_extension": ".py",
   "mimetype": "text/x-python",
   "name": "python",
   "nbconvert_exporter": "python",
   "pygments_lexer": "ipython3",
   "version": "3.11.4"
  },
  "orig_nbformat": 4
 },
 "nbformat": 4,
 "nbformat_minor": 2
}
