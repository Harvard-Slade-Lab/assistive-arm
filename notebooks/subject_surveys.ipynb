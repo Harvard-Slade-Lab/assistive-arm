{
 "cells": [
  {
   "cell_type": "code",
   "execution_count": null,
   "metadata": {},
   "outputs": [],
   "source": [
    "import matplotlib.pyplot as plt\n",
    "\n",
    "import numpy as np\n",
    "import pandas as pd"
   ]
  },
  {
   "cell_type": "markdown",
   "metadata": {},
   "source": [
    "## Subject survey results"
   ]
  },
  {
   "cell_type": "markdown",
   "metadata": {},
   "source": [
    "### Subject data"
   ]
  },
  {
   "cell_type": "code",
   "execution_count": null,
   "metadata": {},
   "outputs": [],
   "source": [
    "question_1 = \"How did you like the device?\"\n",
    "question_1_ans = [\"Very nice, generally easy to use.\", \"It definitely assisted me when standing up.\"]\n",
    "\n",
    "question_2 = \"Which assistance profile did you feel helped you the most?\"\n",
    "question_2_ans = [2, 2]\n",
    "# From profile 1 to profile 6\n",
    "question_3 = \"How tired do you feel after the trial? (scale from 1-5)\"\n",
    "question_3_ans = [1, 1]\n",
    "\n",
    "question_4 = \"Did you think the device was comfortable?\"\n",
    "question_4_ans = [\"Yes, generally.\", \"It was comfortable wearing it, and when standing up it was okay. When turning on, it assisted, but the latest profiles didn’t feel very comfortable.\"]\n",
    "\n",
    "question_5 = \"Did you feel confident about the assistance?\"\n",
    "question_5_ans = [\"For certain profiles, yes.\", \"I felt how the device was assisting.\"]"
   ]
  }
 ],
 "metadata": {
  "kernelspec": {
   "display_name": ".venv",
   "language": "python",
   "name": "python3"
  },
  "language_info": {
   "codemirror_mode": {
    "name": "ipython",
    "version": 3
   },
   "file_extension": ".py",
   "mimetype": "text/x-python",
   "name": "python",
   "nbconvert_exporter": "python",
   "pygments_lexer": "ipython3",
   "version": "3.10.13"
  }
 },
 "nbformat": 4,
 "nbformat_minor": 2
}
