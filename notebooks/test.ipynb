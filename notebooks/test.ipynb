{
 "cells": [
  {
   "cell_type": "code",
   "execution_count": 25,
   "metadata": {},
   "outputs": [],
   "source": [
    "from sympy import symbols, init_printing, sin, cos, trigsimp, Matrix\n",
    "\n",
    "# https://docs.sympy.org/latest/tutorials/intro-tutorial/matrices.html#basic-operations\n",
    "\n",
    "import matplotlib.pyplot as plt"
   ]
  },
  {
   "cell_type": "code",
   "execution_count": 19,
   "metadata": {},
   "outputs": [],
   "source": [
    "theta_1, theta_2, L, d = symbols('theta_1 theta_2 L d')"
   ]
  },
  {
   "cell_type": "code",
   "execution_count": 13,
   "metadata": {},
   "outputs": [
    {
     "data": {
      "text/latex": [
       "$\\displaystyle 1.0$"
      ],
      "text/plain": [
       "1.00000000000000"
      ]
     },
     "execution_count": 13,
     "metadata": {},
     "output_type": "execute_result"
    }
   ],
   "source": [
    "simp = trigsimp(cos(theta_1)*cos(theta_2) - sin(theta_1)*sin(theta_2))\n",
    "\n",
    "simp.evalf(subs={theta_1: 0, theta_2: 0})"
   ]
  },
  {
   "cell_type": "code",
   "execution_count": 20,
   "metadata": {},
   "outputs": [],
   "source": [
    "T_0_1 = Matrix([[cos(theta_1), -sin(theta_1), 0, 0],\n",
    "                [sin(theta_1), cos(theta_1), 0, 0],\n",
    "                [0, 0, 1, 0],\n",
    "                [0, 0, 0, 1]])\n",
    "\n",
    "T_1_2 = Matrix([[cos(theta_2), -sin(theta_2), 0, L],\n",
    "                [sin(theta_2), cos(theta_2), 0, 0],\n",
    "                [0, 0, 1, d],\n",
    "                [0, 0, 0, 1]])\n",
    "\n",
    "T_2_3 = Matrix([[0, 0, 0, L],\n",
    "                [0, 1, 0, 0],\n",
    "                [0, 0, 1, 0],\n",
    "                [0, 0, 0, 1]])\n"
   ]
  },
  {
   "cell_type": "code",
   "execution_count": 28,
   "metadata": {},
   "outputs": [
    {
     "data": {
      "text/latex": [
       "$\\displaystyle \\left[\\begin{matrix}\\cos{\\left(\\theta_{1} + \\theta_{2} \\right)} & - \\sin{\\left(\\theta_{1} + \\theta_{2} \\right)} & 0 & L \\cos{\\left(\\theta_{1} \\right)}\\\\\\sin{\\left(\\theta_{1} + \\theta_{2} \\right)} & \\cos{\\left(\\theta_{1} + \\theta_{2} \\right)} & 0 & L \\sin{\\left(\\theta_{1} \\right)}\\\\0 & 0 & 1 & d\\\\0 & 0 & 0 & 1\\end{matrix}\\right]$"
      ],
      "text/plain": [
       "Matrix([\n",
       "[cos(theta_1 + theta_2), -sin(theta_1 + theta_2), 0, L*cos(theta_1)],\n",
       "[sin(theta_1 + theta_2),  cos(theta_1 + theta_2), 0, L*sin(theta_1)],\n",
       "[                     0,                       0, 1,              d],\n",
       "[                     0,                       0, 0,              1]])"
      ]
     },
     "execution_count": 28,
     "metadata": {},
     "output_type": "execute_result"
    }
   ],
   "source": [
    "trigsimp(T_0_1 * T_1_2)"
   ]
  },
  {
   "cell_type": "code",
   "execution_count": 32,
   "metadata": {},
   "outputs": [
    {
     "data": {
      "text/latex": [
       "$\\displaystyle \\left[\\begin{matrix}0 & 0 & 0 & 1.0\\\\0 & 1.0 & 0 & 0\\\\0 & 0 & 1.0 & 0.5\\\\0 & 0 & 0 & 1.0\\end{matrix}\\right]$"
      ],
      "text/plain": [
       "Matrix([\n",
       "[0,   0,   0, 1.0],\n",
       "[0, 1.0,   0,   0],\n",
       "[0,   0, 1.0, 0.5],\n",
       "[0,   0,   0, 1.0]])"
      ]
     },
     "execution_count": 32,
     "metadata": {},
     "output_type": "execute_result"
    }
   ],
   "source": [
    "T_0_3 = trigsimp(T_0_1 * T_1_2 * T_2_3)\n",
    "\n",
    "T_0_3.evalf(subs={theta_1: 0, theta_2: 0, L: 0.5, d: 0.5})"
   ]
  }
 ],
 "metadata": {
  "kernelspec": {
   "display_name": ".venv",
   "language": "python",
   "name": "python3"
  },
  "language_info": {
   "codemirror_mode": {
    "name": "ipython",
    "version": 3
   },
   "file_extension": ".py",
   "mimetype": "text/x-python",
   "name": "python",
   "nbconvert_exporter": "python",
   "pygments_lexer": "ipython3",
   "version": "3.11.3"
  },
  "orig_nbformat": 4
 },
 "nbformat": 4,
 "nbformat_minor": 2
}
