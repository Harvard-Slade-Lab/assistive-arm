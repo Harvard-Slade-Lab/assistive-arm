{
 "cells": [
  {
   "cell_type": "code",
   "execution_count": null,
   "metadata": {},
   "outputs": [],
   "source": [
    "import numpy as np\n",
    "import os\n",
    "import pandas as pd\n",
    "import yaml\n",
    "\n",
    "from pathlib import Path\n",
    "\n",
    "import matplotlib.pyplot as plt\n",
    "\n",
    "from assistive_arm.utils.optimum_length_utils import smooth_dataframe, interpolate_dataframe"
   ]
  },
  {
   "cell_type": "code",
   "execution_count": null,
   "metadata": {},
   "outputs": [],
   "source": [
    "log_dir = Path(\"../motor_logs/\")\n",
    "day_path = log_dir / \"December_13\"\n",
    "\n",
    "for file in os.listdir(day_path):\n",
    "    if file.endswith(\".csv\"):\n",
    "        file_path = day_path / file\n",
    "        with open(file_path, 'r') as f:\n",
    "            lines = f.readlines()\n",
    "            if len(lines) == 1 and lines[0].strip() == 'time,position,velocity,torque':\n",
    "                os.remove(file_path)\n",
    "\n",
    "sorted_paths = sorted(os.listdir(day_path), key=lambda x: x.split(\"_\")[3], reverse=True)\n",
    "\n",
    "for path in sorted_paths:\n",
    "    print(path)\n"
   ]
  },
  {
   "cell_type": "code",
   "execution_count": null,
   "metadata": {},
   "outputs": [],
   "source": [
    "test_time_1 = \"sit_to_stand_12-11-11-12-46.csv\"\n",
    "task_df = \"sit_to_stand_12-11-11-57-18.csv\"\n",
    "test_time_2 = test_time_1\n",
    "# test_time_2 = \"measure_arm_pose_12-07-09-49-57.csv\"\n",
    "\n",
    "print('\\nLast log: ', sorted_paths[1]) # 1 because 0 is always yaml\n"
   ]
  },
  {
   "cell_type": "code",
   "execution_count": null,
   "metadata": {},
   "outputs": [],
   "source": [
    "log_name = sorted_paths[1]\n",
    "# log_name = \"sit_to_stand_12-12-19-15-19.csv\"\n",
    "\n",
    "log_path = day_path / log_name\n",
    "yaml_path = day_path / (log_name.split(\".\")[0] + \".yaml\")"
   ]
  },
  {
   "cell_type": "code",
   "execution_count": null,
   "metadata": {},
   "outputs": [],
   "source": [
    "fig, ax = plt.subplots(3, 1, sharex=True, figsize=(10, 10))\n",
    "ax[0].plot(task_df.index, task_df[\"theta_2\"], label=\"theta_2\")\n",
    "ax[0].axhline(y=calibration_file[\"new_range\"][\"min\"], linestyle=\"--\", color=\"black\")\n",
    "ax[0].axhline(y=calibration_file[\"new_range\"][\"max\"], linestyle=\"--\", color=\"black\")\n",
    "ax[0].grid()\n",
    "ax[0].legend()\n",
    "ax[0].set_ylabel(\"theta_2 (rad)\")\n",
    "\n",
    "\n",
    "ax[1].plot(task_df.index, task_df[\"target_tau_1\"], label=\"target_tau_1\")\n",
    "ax[1].plot(task_df.index, task_df[\"measured_tau_1\"], label=\"measured_tau_1\")\n",
    "ax[1].plot(task_df.index, task_df[\"target_tau_2\"], label=\"target_tau_2\")\n",
    "ax[1].plot(task_df.index, task_df[\"measured_tau_2\"], label=\"measured_tau_2\")\n",
    "ax[1].grid()\n",
    "ax[1].legend()\n",
    "ax[1].set_ylabel(\"Torque (Nm)\")\n",
    "\n",
    "ax[2].plot(task_df.index, task_df[\"index\"], label=\"STS %\")\n",
    "ax[2].axhline(y=100, linestyle=\"--\", color=\"black\")\n",
    "ax[2].axhline(y=0, linestyle=\"--\", color=\"black\")\n",
    "ax[2].grid()\n",
    "ax[2].legend()\n",
    "ax[2].set_ylabel(\"STS %\")\n",
    "ax[2].set_xlabel('time')"
   ]
  },
  {
   "cell_type": "code",
   "execution_count": null,
   "metadata": {},
   "outputs": [],
   "source": [
    "min_len = min(len(base_motor_df), len(elbow_motor_df))\n",
    "\n",
    "base_motor_df = base_motor_df.iloc[:min_len]\n",
    "elbow_motor_df = elbow_motor_df.iloc[:min_len]"
   ]
  },
  {
   "cell_type": "code",
   "execution_count": null,
   "metadata": {},
   "outputs": [],
   "source": [
    "l1 = 0.44\n",
    "l2 = 0.41\n",
    "\n",
    "theta_1 = base_motor_df[\"position\"].values\n",
    "theta_2 = elbow_motor_df[\"position\"].values\n",
    "\n",
    "P_EE = np.array([l1*np.cos(theta_1) + l2*np.cos(theta_1 + theta_2), l1*np.sin(theta_1) + l2*np.sin(theta_1 + theta_2)])\n",
    "\n",
    "hip_proxy = pd.DataFrame.from_dict({\"time\": base_motor_df.index, \"x\": P_EE[0, :], \"y\": P_EE[1, :]})"
   ]
  },
  {
   "cell_type": "code",
   "execution_count": null,
   "metadata": {},
   "outputs": [],
   "source": [
    "fig, axs = plt.subplots(2, 2, sharex=True, figsize=(20, 5))\n",
    "\n",
    "axs[0, 0].plot(task_df.index, -task_df.EE_X, label=\"pelvis Y\")\n",
    "axs[0, 0].grid()\n",
    "axs[0, 0].legend()\n",
    "axs[0, 0].set_ylabel(\"pelvis Y (m)\")\n",
    "\n",
    "axs[0, 1].plot(task_df.index, task_df.theta_1, label=\"theta_1\")\n",
    "axs[0, 1].plot(task_df.index, task_df.theta_2, label=\"theta_2\")\n",
    "axs[0, 1].grid()\n",
    "axs[0, 1].legend()\n",
    "axs[0, 1].set_ylabel(\"joint angle (rad)\")\n",
    "\n",
    "\n",
    "axs[1, 0].plot(task_df.index, task_df.velocity_1, label=\"base velocity\")\n",
    "axs[1, 0].plot(task_df.index, task_df.velocity_2, label=\"elbow velocity\")\n",
    "axs[1, 0].grid()\n",
    "axs[1, 0].legend()\n",
    "axs[1, 0].set_xlabel('time (s)')\n",
    "axs[1, 0].set_ylabel('velocity (rad/s)')\n",
    "\n",
    "axs[1, 1].plot(task_df.index, task_df.measured_tau_1, label=\"base torque\")\n",
    "axs[1, 1].plot(task_df.index, task_df.measured_tau_2, label=\"elbow torque\")\n",
    "axs[1, 1].grid()\n",
    "axs[1, 1].legend()\n",
    "axs[1, 1].set_xlabel('time (s)')\n",
    "axs[1, 1].set_ylabel('torque (Nm)')"
   ]
  },
  {
   "cell_type": "code",
   "execution_count": null,
   "metadata": {},
   "outputs": [],
   "source": []
  }
 ],
 "metadata": {
  "kernelspec": {
   "display_name": ".venv",
   "language": "python",
   "name": "python3"
  },
  "language_info": {
   "codemirror_mode": {
    "name": "ipython",
    "version": 3
   },
   "file_extension": ".py",
   "mimetype": "text/x-python",
   "name": "python",
   "nbconvert_exporter": "python",
   "pygments_lexer": "ipython3",
   "version": "3.10.14"
  }
 },
 "nbformat": 4,
 "nbformat_minor": 2
}
