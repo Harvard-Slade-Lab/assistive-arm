{
 "cells": [
  {
   "cell_type": "code",
   "execution_count": null,
   "metadata": {},
   "outputs": [],
   "source": [
    "%load_ext autoreload\n",
    "%autoreload 2"
   ]
  },
  {
   "cell_type": "code",
   "execution_count": null,
   "metadata": {},
   "outputs": [],
   "source": [
    "import os\n",
    "import numpy as np\n",
    "import pandas as pd\n",
    "from pathlib import Path\n",
    "import yaml\n",
    "import zipfile\n",
    "\n",
    "import matplotlib.pyplot as plt\n",
    "import matplotlib.ticker as mticker\n",
    "from matplotlib import rcParams\n",
    "\n",
    "from chspy import CubicHermiteSpline\n",
    "\n",
    "# os.chdir(Path(os.getcwd()).parent)\n",
    "from assistive_arm.utils.data_preprocessing import prepare_opencap_markers, smooth_dataframe, interpolate_dataframe\n",
    "from assistive_arm.utils.optimum_length_utils import compute_torque_profiles, get_rotation_matrix, check_theta\n",
    "from assistive_arm.utils.plotting import create_torque_plot"
   ]
  },
  {
   "cell_type": "markdown",
   "metadata": {},
   "source": [
    "## Read data"
   ]
  },
  {
   "cell_type": "markdown",
   "metadata": {},
   "source": [
    "### Marker data"
   ]
  },
  {
   "cell_type": "code",
   "execution_count": null,
   "metadata": {},
   "outputs": [],
   "source": [
    "# Plot settings\n",
    "plt.style.use('fivethirtyeight')\n",
    "\n",
    "rcParams['font.size'] = 12\n",
    "\n",
    "rcParams['figure.titlesize'] = 16\n",
    "rcParams['figure.titleweight'] = 'normal'\n",
    "\n",
    "rcParams['axes.labelsize'] = 12\n",
    "rcParams['axes.titlesize'] = 16\n",
    "rcParams['axes.titleweight'] = 'normal'\n",
    "\n",
    "rcParams['xtick.labelsize'] = 12\n",
    "rcParams['ytick.labelsize'] = 12\n",
    "\n",
    "rcParams['axes.grid'] = False\n",
    "rcParams['grid.linewidth'] = 0.5\n",
    "\n",
    "# make background white\n",
    "rcParams['figure.facecolor'] = 'white'\n",
    "rcParams['axes.facecolor'] = 'white'\n",
    "rcParams['savefig.facecolor'] = 'white'\n",
    "\n",
    "rcParams['lines.linewidth'] = 1.5\n",
    "rcParams['lines.markersize'] = 10\n",
    "\n",
    "# Box around plot\n",
    "rcParams['axes.linewidth'] = 0.4\n",
    "rcParams['axes.edgecolor'] = 'black'\n",
    "\n",
    "# Add ticks\n",
    "rcParams['xtick.major.size'] = 5\n",
    "rcParams['ytick.major.size'] = 5\n",
    "\n",
    "rcParams['legend.fontsize'] = 12\n",
    "rcParams['legend.edgecolor'] = 'black'\n",
    "\n",
    "# Output rcParams as a custom style file\n",
    "\n",
    "# Load rcParams from a custom style file\n",
    "# plt.style.use('../paper.mplstyle')"
   ]
  },
  {
   "cell_type": "code",
   "execution_count": null,
   "metadata": {},
   "outputs": [],
   "source": [
    "subject = \"subject_1\"\n",
    "subject_data = Path(\"/Users/xabieririzar/Desktop/Life/Studium/TUM/Master_Robotics/Harvard/Thesis/subject_testing/subject_data/\") / subject\n",
    "trial = subject_data / \"trial_2\"\n",
    "\n",
    "project_moco_data = Path(\"/Users/xabieririzar/uni-projects/Harvard/assistive-arm/moco/\")\n",
    "control_solutions = project_moco_data / \"control_solutions\"\n",
    "\n",
    "# Set directories\n",
    "opencap_markers = pd.read_csv(trial / \"opencap_tracker.trc\", delimiter=\"\\t\", skiprows=3).tail(-1)\n",
    "filtered_markers = prepare_opencap_markers(opencap_markers)\n",
    "\n",
    "# Read solution and yaml config\n",
    "solution_path = control_solutions / \"opencap_simple_assistance_false_2023-09-22_17-13.sto\"\n",
    "control_solution = pd.read_csv(solution_path, delimiter=\"\\t\", skiprows=18)\n",
    "config_path = control_solutions / f\"{solution_path.stem}.yaml\"\n",
    "\n",
    "try:\n",
    "    with open(config_path, \"r\") as f:\n",
    "        config_file = yaml.load(f, Loader=yaml.FullLoader)\n",
    "except FileNotFoundError:\n",
    "    print(f\"No config file found at {config_path}\")\n"
   ]
  },
  {
   "cell_type": "markdown",
   "metadata": {},
   "source": [
    "### Load motor data"
   ]
  },
  {
   "cell_type": "code",
   "execution_count": null,
   "metadata": {},
   "outputs": [],
   "source": [
    "motor_config = Path('/Users/xabieririzar/uni-projects/Harvard/assistive-arm/motor_config.yaml')\n",
    "with open(motor_config, 'r') as f:\n",
    "    motor_config = yaml.load(f, Loader=yaml.FullLoader)"
   ]
  },
  {
   "cell_type": "markdown",
   "metadata": {},
   "source": [
    "### Get pelvis marker and set it as human anchoring position"
   ]
  },
  {
   "cell_type": "code",
   "execution_count": null,
   "metadata": {},
   "outputs": [],
   "source": [
    "# config_file"
   ]
  },
  {
   "cell_type": "code",
   "execution_count": null,
   "metadata": {},
   "outputs": [],
   "source": [
    "pelvis_x = (filtered_markers[\"r.PSIS_study\"].X + filtered_markers[\"L.PSIS_study\"].X)/2 \n",
    "pelvis_y = (filtered_markers[\"r.PSIS_study\"].Y + filtered_markers[\"L.PSIS_study\"].Y)/2\n",
    "pelvis_z = (filtered_markers[\"r.PSIS_study\"].Z + filtered_markers[\"L.PSIS_study\"].Z)/2 \n",
    "\n",
    "pelvis_marker = pd.DataFrame({\"Time\": filtered_markers.Time.t, \"X\": pelvis_x, \"Y\": pelvis_y, \"Z\": pelvis_z})\n",
    "pelvis_marker = pelvis_marker[(pelvis_marker.Time >= 1.8) & (pelvis_marker.Time <= 3.2)].reset_index(drop=True)\n",
    "pelvis_marker.set_index(\"Time\", inplace=True)\n",
    "new_index = pd.Index(np.arange(pelvis_marker.index.min(), pelvis_marker.index.max() + 0.025, step=0.025), name=\"Time\")\n",
    "pelvis_marker_aligned = pelvis_marker.reindex(new_index, method=\"nearest\")\n",
    "pelvis_marker_aligned = smooth_dataframe(pelvis_marker_aligned, window_size=5)\n"
   ]
  },
  {
   "cell_type": "markdown",
   "metadata": {},
   "source": [
    "### Read assistive force profile"
   ]
  },
  {
   "cell_type": "code",
   "execution_count": null,
   "metadata": {},
   "outputs": [],
   "source": [
    "assistive_force = control_solution[[\"time\", \"/forceset/reserve_jointset_ground_pelvis_pelvis_tx\", \"/forceset/reserve_jointset_ground_pelvis_pelvis_ty\"]]\n",
    "assistive_force.set_index(\"time\", inplace=True)\n",
    "assistive_force.columns = [\"X\", \"Y\"]\n",
    "assistive_force.insert(2, \"Z\", 0)\n",
    "\n",
    "# Scale down force profile\n",
    "assistive_force *= 100\n",
    "assistive_force *= 2/3"
   ]
  },
  {
   "cell_type": "markdown",
   "metadata": {},
   "source": [
    "## Calculate optimal link length ratio"
   ]
  },
  {
   "cell_type": "markdown",
   "metadata": {},
   "source": [
    "### Get distance vector from pelvis to anchor point"
   ]
  },
  {
   "cell_type": "code",
   "execution_count": null,
   "metadata": {},
   "outputs": [],
   "source": [
    "chair_position = np.array([-0.6, 0.5, -0.075])\n",
    "pelvis_to_chair = chair_position - pelvis_marker_aligned\n",
    "\n",
    "print(f\"Anchoring point on bench: {pelvis_to_chair.X.iloc[0]:.3f}m away from pelvis\")"
   ]
  },
  {
   "cell_type": "markdown",
   "metadata": {},
   "source": [
    "### Calculate optimal length"
   ]
  },
  {
   "cell_type": "code",
   "execution_count": null,
   "metadata": {},
   "outputs": [],
   "source": [
    "min_necessary_length = np.linalg.norm(pelvis_to_chair, axis=1).max()\n",
    "\n",
    "print(\"Minimum total length: \", min_necessary_length)\n",
    "\n",
    "resolution = 30\n",
    "\n",
    "link_lengths_1 = np.linspace(0.1, 1, resolution)\n",
    "link_lengths_2 = np.linspace(0.1, 1, resolution)\n",
    "link_lengths_1 = link_lengths_1[link_lengths_1 < min_necessary_length]\n",
    "link_lengths_2 = link_lengths_2[link_lengths_2 < min_necessary_length]\n",
    "\n",
    "# Set joint angle limits (degrees)\n",
    "theta_1_lims = np.deg2rad([0, 180])\n",
    "theta_2_lims = np.deg2rad([-145, 145])\n",
    "\n",
    "results = []\n",
    "\n",
    "for l1 in link_lengths_1:\n",
    "    for l2 in link_lengths_2:\n",
    "        if l1 + l2 < min_necessary_length:\n",
    "            continue\n",
    "        \n",
    "        torques, joint_angles, jacobians = compute_torque_profiles(l1, l2, F=assistive_force, position=pelvis_to_chair)\n",
    "\n",
    "        # Don't include invalid values\n",
    "        if np.any(np.isnan(torques)) or np.any(np.isnan(joint_angles)):\n",
    "            continue\n",
    "\n",
    "        result = {\n",
    "            'l1': l1,\n",
    "            'l2': l2,\n",
    "            'tau_1': torques.tau_1,\n",
    "            'tau_2': torques.tau_2,\n",
    "            'theta_1': joint_angles.theta_1,\n",
    "            'theta_2': joint_angles.theta_2,\n",
    "            'jacobians': jacobians,\n",
    "        }\n",
    "        results.append(result)\n",
    "\n",
    "print(f\"Explored {len(results)} combinations\")"
   ]
  },
  {
   "cell_type": "markdown",
   "metadata": {},
   "source": [
    "### Filter out infeasible torque profiles"
   ]
  },
  {
   "cell_type": "code",
   "execution_count": null,
   "metadata": {},
   "outputs": [],
   "source": [
    "feasible_profiles = pd.DataFrame(results)\n",
    "feasible_profiles.dropna(inplace=True)\n",
    "\n",
    "# Filter out solutions that are outside of the joint angle limits\n",
    "feasible_profiles = feasible_profiles[feasible_profiles[\"theta_1\"].apply(check_theta, theta_lims=theta_2_lims) & feasible_profiles[\"theta_2\"].apply(check_theta, theta_lims=theta_2_lims)]\n",
    "\n",
    "print(len(feasible_profiles))"
   ]
  },
  {
   "cell_type": "markdown",
   "metadata": {},
   "source": [
    "### Get ideal torque combination"
   ]
  },
  {
   "cell_type": "code",
   "execution_count": null,
   "metadata": {},
   "outputs": [],
   "source": [
    "# Get link lengths that minimizes the peak torque for both motors\n",
    "torques = feasible_profiles[[\"tau_1\", \"tau_2\"]].map(lambda x: np.abs(x).max())\n",
    "\n",
    "min_overall_torque = np.linalg.norm(torques, axis=1)\n",
    "min_torque_loc = min_overall_torque.argmin()"
   ]
  },
  {
   "cell_type": "code",
   "execution_count": null,
   "metadata": {},
   "outputs": [],
   "source": [
    "l1, l2, tau_1, tau_2, theta_1, theta_2, jacobians = feasible_profiles.iloc[min_torque_loc]\n",
    "\n",
    "optimal_profile = pd.DataFrame({'theta_1': theta_1.to_numpy(), 'theta_2': theta_2.to_numpy()}, index=theta_1.index)"
   ]
  },
  {
   "cell_type": "markdown",
   "metadata": {},
   "source": [
    "### Calculate necessary bar length based on offset from rotational axis and link inserts"
   ]
  },
  {
   "cell_type": "code",
   "execution_count": null,
   "metadata": {},
   "outputs": [],
   "source": [
    "bar_1 = l1 - 0.103 # Constants based on CAD model (dist from bar to rot axis)\n",
    "bar_2 = l2 - 0.081125\n",
    "print(f\"Bar 1: {bar_1:.3f} m\")\n",
    "print(f\"Bar 2: {bar_2:.3f} m\")"
   ]
  },
  {
   "cell_type": "code",
   "execution_count": null,
   "metadata": {},
   "outputs": [],
   "source": [
    "create_torque_plot(torques=torques, feasible_profiles=feasible_profiles, l1=l1, l2=l2)"
   ]
  },
  {
   "cell_type": "markdown",
   "metadata": {},
   "source": [
    "### Calculate End Effector and Elbow trajecotries based on optimal link length"
   ]
  },
  {
   "cell_type": "code",
   "execution_count": null,
   "metadata": {},
   "outputs": [],
   "source": [
    "rotate_90 = get_rotation_matrix(90)\n",
    "\n",
    "P_EE = np.array([l1*np.cos(theta_1) + l2*np.cos(theta_1 + theta_2), l1*np.sin(theta_1) + l2*np.sin(theta_1 + theta_2)])\n",
    "P_L1 = np.array([l1*np.cos(theta_1), l1*np.sin(theta_1)])\n",
    "\n",
    "P_L1 = pd.DataFrame(P_L1.T, columns=[\"X\", \"Y\"], index=theta_1.index)\n",
    "P_EE = pd.DataFrame(P_EE.T, columns=[\"X\", \"Y\"], index=theta_1.index)\n",
    "P_EE.columns = [\"X\", \"Y\"]\n",
    "P_L1.columns = [\"X\", \"Y\"]"
   ]
  },
  {
   "cell_type": "code",
   "execution_count": null,
   "metadata": {},
   "outputs": [],
   "source": [
    "optimal_profile['EE_X'] = P_EE.X\n",
    "optimal_profile['EE_Y'] = P_EE.Y"
   ]
  },
  {
   "cell_type": "code",
   "execution_count": null,
   "metadata": {},
   "outputs": [],
   "source": [
    "motion_percentage = (optimal_profile.index - optimal_profile.index.min())/(optimal_profile.index.max() - optimal_profile.index.min()) * 100"
   ]
  },
  {
   "cell_type": "markdown",
   "metadata": {},
   "source": [
    "### Interpolate and smooth profiles"
   ]
  },
  {
   "cell_type": "code",
   "execution_count": null,
   "metadata": {},
   "outputs": [],
   "source": [
    "interpol_force_profile = interpolate_dataframe(df=assistive_force, desired_frequency=200)\n",
    "interpol_force_profile = smooth_dataframe(df=interpol_force_profile, window_size=5)\n",
    "optimal_profile = interpolate_dataframe(df=optimal_profile, desired_frequency=200)\n",
    "optimal_profile = smooth_dataframe(df=optimal_profile, window_size=5)\n",
    "\n",
    "pelvis_to_chair_smoothed = smooth_dataframe(interpolate_dataframe(df=pelvis_to_chair), window_size=5)"
   ]
  },
  {
   "cell_type": "code",
   "execution_count": null,
   "metadata": {},
   "outputs": [],
   "source": [
    "plt.plot(motion_percentage, -P_EE.X, label='EE X')\n",
    "plt.xlabel(\"STS %\")\n",
    "plt.ylabel(\"Y (m)\")\n",
    "plt.title(\"End effector Y trajectory\")\n",
    "plt.legend()\n",
    "plt.savefig(\"../paper_figures/ee_y_trajectory.svg\", format=\"svg\")\n",
    "plt.show()"
   ]
  },
  {
   "cell_type": "code",
   "execution_count": null,
   "metadata": {},
   "outputs": [],
   "source": [
    "theta_1_dot = np.gradient(optimal_profile.theta_1) / interpol_force_profile.index.diff()\n",
    "theta_2_dot = np.gradient(optimal_profile.theta_2) / interpol_force_profile.index.diff()"
   ]
  },
  {
   "cell_type": "markdown",
   "metadata": {},
   "source": [
    "### Modify optimal profile"
   ]
  },
  {
   "cell_type": "code",
   "execution_count": null,
   "metadata": {},
   "outputs": [],
   "source": [
    "# Change index to motion percentage\n",
    "motion_percentage = (optimal_profile.index - optimal_profile.index.min())/(optimal_profile.index.max() - optimal_profile.index.min()) * 100\n",
    "\n",
    "optimal_profile.set_index(motion_percentage, inplace=True)\n",
    "optimal_profile.index.name = \"Percentage\""
   ]
  },
  {
   "cell_type": "code",
   "execution_count": null,
   "metadata": {},
   "outputs": [],
   "source": [
    "modified_force_profile = interpol_force_profile.copy()\n",
    "\n",
    "zero_points = np.where(np.isclose(modified_force_profile.Y, 0, atol=4))[0]\n",
    "profile_end = zero_points[1]\n",
    "modified_force_profile.iloc[profile_end:, :] = 0\n",
    "modified_force_profile.iloc[:, [0, 2]] = 0"
   ]
  },
  {
   "cell_type": "code",
   "execution_count": null,
   "metadata": {},
   "outputs": [],
   "source": [
    "plt.plot(motion_percentage, interpol_force_profile.Y, label='Original Y')\n",
    "plt.plot(motion_percentage, modified_force_profile.Y, label='Modified Y')\n",
    "plt.xlabel(\"STS %\")\n",
    "plt.ylabel(\"Force (N)\")\n",
    "plt.legend()\n",
    "plt.title(\"Assistive force profile\")\n",
    "plt.savefig(\"../paper_figures/unscaled_osim_profile.svg\", format='svg')"
   ]
  },
  {
   "cell_type": "code",
   "execution_count": null,
   "metadata": {},
   "outputs": [],
   "source": [
    "torques, angles, jacobians =  compute_torque_profiles(l1=l1, l2=l2, F=modified_force_profile, position=pelvis_to_chair_smoothed)"
   ]
  },
  {
   "cell_type": "markdown",
   "metadata": {},
   "source": [
    "\n",
    "### Scale profiles to a set MIN/MAX range"
   ]
  },
  {
   "cell_type": "code",
   "execution_count": null,
   "metadata": {},
   "outputs": [],
   "source": [
    "# Scale the torque profiles\n",
    "scale_factor_tau1 = motor_config[\"AK70-10\"]['T_max'] / np.abs(torques.tau_1).max()\n",
    "scale_factor_tau2 = motor_config[\"AK60-6\"]['T_max'] / np.abs(torques.tau_2).max()\n",
    "# Scaling torque profiles\n",
    "print(f\"Scaling factor tau1: {scale_factor_tau1:.3f}\")\n",
    "print(f\"Scaling factor tau2: {scale_factor_tau2:.3f}\")\n",
    "\n",
    "print(\"Scaling everything by tau_1 to keep the same ratio\")\n",
    "optimal_profile[\"tau_1\"] = torques.tau_1.to_numpy() * scale_factor_tau1\n",
    "optimal_profile[\"tau_2\"] = torques.tau_2.to_numpy() * scale_factor_tau1"
   ]
  },
  {
   "cell_type": "markdown",
   "metadata": {},
   "source": [
    "### Recalculate force based on scaled torques"
   ]
  },
  {
   "cell_type": "code",
   "execution_count": null,
   "metadata": {},
   "outputs": [],
   "source": [
    "torques = optimal_profile[[\"tau_1\", \"tau_2\"]].to_numpy()\n",
    "N, M = torques.shape\n",
    "torques = torques.reshape(N, M, 1)\n",
    "\n",
    "# Inverse operation for getting force profile from torques\n",
    "F = - rotate_90[:2, :2] @ np.linalg.inv(jacobians.T) @ torques\n",
    "\n",
    "optimal_profile['force_X'] = F[:, 0]\n",
    "optimal_profile['force_Y'] = F[:, 1]\n",
    "\n",
    "ee_curve = optimal_profile['EE_X']\n",
    "\n",
    "for i, x in enumerate(ee_curve):\n",
    "    if i == 0:\n",
    "        continue\n",
    "    if x > ee_curve.iloc[i-1]:\n",
    "        ee_curve.iloc[i] = ee_curve.iloc[i-1]"
   ]
  },
  {
   "cell_type": "code",
   "execution_count": null,
   "metadata": {},
   "outputs": [],
   "source": [
    "optimal_profile[[\"tau_1\", \"tau_2\"]].plot()"
   ]
  },
  {
   "cell_type": "code",
   "execution_count": null,
   "metadata": {},
   "outputs": [],
   "source": [
    "def f_prof(params: list, n: int):\n",
    "    spline = CubicHermiteSpline(n=1)\n",
    "    spline.add((-1, [0], [0]))  # init pt\n",
    "    spline.add((params[0], [params[1]], [0]))  # first peak\n",
    "    spline.add((params[2] * n, [0], [0]))  # point at 90% of N where value becomes 0\n",
    "    spline.add((n, [0], [0]))  # ensure spline remains at 0 after 90% of N\n",
    "    return spline"
   ]
  },
  {
   "cell_type": "code",
   "execution_count": null,
   "metadata": {},
   "outputs": [],
   "source": [
    "peak_force = optimal_profile.force_Y.max()\n",
    "peak_time_index = optimal_profile.force_Y.argmax()\n",
    "\n",
    "# Generate curves in range 20-80% of N\n",
    "peak_force_jump = N * 0.1 # 10% of N\n",
    "\n",
    "peak_time_indices = []\n",
    "\n",
    "for i in range(-10, 10, 1):\n",
    "    new_ind = int(peak_time_index + peak_force_jump * i)\n",
    "\n",
    "    if new_ind < 0 or new_ind > N:\n",
    "        continue\n",
    "    \n",
    "    new_percent = motion_percentage[new_ind]\n",
    "    if new_percent > 20 and new_percent < 80:\n",
    "        peak_time_indices.append(new_ind)\n",
    "\n",
    "peak_force_values = [peak_force*(1-0.1*i) for i in range(5)]"
   ]
  },
  {
   "cell_type": "code",
   "execution_count": null,
   "metadata": {},
   "outputs": [],
   "source": [
    "splines = {}\n",
    "zero_at = 0.95\n",
    "\n",
    "for peak_time_index in peak_time_indices:\n",
    "    peak_time = round(motion_percentage[peak_time_index]) # Actual percentage value\n",
    "    splines[peak_time] = []\n",
    "\n",
    "    for peak_force in peak_force_values:\n",
    "        params = [peak_time_index, peak_force, zero_at]\n",
    "        grf = f_prof(params, N)\n",
    "\n",
    "        spline = []\n",
    "        \n",
    "        for i in range(N):\n",
    "            spline.append(grf.get_state(i)[0])\n",
    "        spline = pd.DataFrame.from_dict(\n",
    "            {\"Time\": modified_force_profile.index,\n",
    "            \"X\": 0,\n",
    "            \"Y\": spline,\n",
    "            \"Z\": 0}\n",
    "        )\n",
    "        spline.set_index(\"Time\", inplace=True)\n",
    "\n",
    "        torques, _, _ =  compute_torque_profiles(l1=l1, l2=l2, F=spline, position=pelvis_to_chair_smoothed)\n",
    "        spline_profile = optimal_profile.copy()\n",
    "        spline_profile[[\"force_X\", \"force_Y\"]] = spline[[\"X\", \"Y\"]].to_numpy()\n",
    "        spline_profile[[\"tau_1\", \"tau_2\"]] = torques.to_numpy()\n",
    "        splines[peak_time].append(spline_profile)"
   ]
  },
  {
   "cell_type": "code",
   "execution_count": null,
   "metadata": {},
   "outputs": [],
   "source": [
    "n_rows = len(splines.keys())\n",
    "fig, axs = plt.subplots(1, n_rows, figsize=(n_rows*3.5, 4), sharey=True)  # Adjust the figure size as needed\n",
    "fig.suptitle('Force profiles for different peak times', fontsize=24)\n",
    "\n",
    "for i, (peak_time, same_peak_time_splines) in enumerate(splines.items()):\n",
    "    for peak_force_spline in same_peak_time_splines:\n",
    "        # Assuming each spline object can be plotted directly\n",
    "        axs[i].plot(motion_percentage, peak_force_spline.force_Y, label=f'Peak @ {peak_force_spline.force_Y.max() + 2.3: .0f}N')  # Replace .id with an appropriate identifier\n",
    "    axs[i].axvline(x=peak_time, color='r', linestyle='--', label='Peak timing')\n",
    "    axs[i].set_title(f'Peak Time {peak_time: .0f}%')\n",
    "    axs[i].set_xlabel(\"STS %\")\n",
    "axs[0].set_ylabel(\"Force (N)\")\n",
    "\n",
    "handles, labels = axs[i].get_legend_handles_labels()\n",
    "\n",
    "# Flat legend\n",
    "legend = fig.legend(handles, labels, loc='upper right', bbox_to_anchor=(0.85, 0.9), ncol=len(labels), fontsize=16)\n",
    "\n",
    "for line in legend.get_lines():\n",
    "    line.set_linewidth(3)\n",
    "\n",
    "plt.tight_layout(rect=[0, 0.03, 1, 0.9])\n",
    "plt.show()"
   ]
  },
  {
   "cell_type": "code",
   "execution_count": null,
   "metadata": {},
   "outputs": [],
   "source": [
    "fig, axs = plt.subplots(figsize=(5, 5))  # Adjust the figure size as needed\n",
    "fig.suptitle('Peak force profile @ different peak times')\n",
    "\n",
    "for i, (peak_time, same_peak_time_splines) in enumerate(splines.items()):\n",
    "    peak_force_spline = same_peak_time_splines[0]\n",
    "    \n",
    "    axs.plot(motion_percentage, peak_force_spline.force_Y, label=f'Peak @ {peak_force_spline.force_Y.max(): .0f}N')  # Replace .id with an appropriate identifier\n",
    "    axs.xaxis.set_major_formatter(mticker.PercentFormatter())\n",
    "    axs.set_xlabel(\"STS %\")\n",
    "    axs.set_ylabel(\"Force [N]\")\n",
    "\n",
    "# Flat legend\n",
    "# fig.legend(handles, labels, loc='upper right', bbox_to_anchor=(0.76, 0.9), ncol=len(labels))\n",
    "\n",
    "plt.tight_layout()\n",
    "plt.show()"
   ]
  },
  {
   "cell_type": "markdown",
   "metadata": {},
   "source": [
    "### Transfer profile to Raspberry Pi"
   ]
  },
  {
   "cell_type": "code",
   "execution_count": null,
   "metadata": {},
   "outputs": [],
   "source": [
    "spline_paths = []\n",
    "\n",
    "for peak_time, same_peak_time_splines in splines.items():\n",
    "    for peak_force_spline in same_peak_time_splines:\n",
    "        spline_path = f\"../torque_profiles/peak_time_{peak_time:.0f}_peak_force_{peak_force_spline.force_Y.max():.0f}.csv\"\n",
    "        spline_paths.append(spline_path)\n",
    "        peak_force_spline.to_csv(spline_path)"
   ]
  },
  {
   "cell_type": "code",
   "execution_count": null,
   "metadata": {},
   "outputs": [],
   "source": [
    "optimal_profile_path = trial / \"simulation_profile.csv\"\n",
    "optimal_profile.to_csv(optimal_profile_path)\n",
    "optimal_profile.to_csv(\"../torque_profiles/simulation_profile.csv\")"
   ]
  },
  {
   "cell_type": "code",
   "execution_count": null,
   "metadata": {},
   "outputs": [],
   "source": [
    "timeout_limit = 1 #s\n",
    "\n",
    "command = f\"timeout {timeout_limit} scp {str(optimal_profile_path)} ABILITY_LAB_WLAN:/home/xabier/ability-lab/assistive-arm/torque_profiles/\"\n",
    "os.system(command)\n",
    "\n",
    "zip_file_path = Path(\"../torque_profiles/spline_profiles.zip\").absolute()\n",
    "with zipfile.ZipFile(zip_file_path, \"w\") as zip_file:\n",
    "    for spline_path in spline_paths:\n",
    "        zip_file.write(spline_path, os.path.basename(spline_path))\n",
    "command = f\"timeout {timeout_limit} scp {zip_file_path} ABILITY_LAB_WLAN:/home/xabier/ability-lab/assistive-arm/torque_profiles/\"\n",
    "os.system(command)\n",
    "\n",
    "unzip_command = f\"timeout {timeout_limit} ssh ABILITY_LAB_WLAN 'unzip -oq /home/xabier/ability-lab/assistive-arm/torque_profiles/spline_profiles.zip -d /home/xabier/ability-lab/assistive-arm/torque_profiles/spline_profiles/'\"\n",
    "os.system(unzip_command)\n",
    "exit_status = os.system(f\"timeout {timeout_limit} ssh ABILITY_LAB_WLAN 'rm /home/xabier/ability-lab/assistive-arm/torque_profiles/spline_profiles.zip'\")\n",
    "# Execute the command\n",
    "\n",
    "# Check if the command timed out or failed\n",
    "if exit_status != 0:\n",
    "    if exit_status == 31744:\n",
    "        print(f\"Timeout: The file copy operation did not complete within {timeout_limit} seconds.\")\n",
    "    else:\n",
    "        print(f\"An error occurred with exit status {exit_status}.\")"
   ]
  },
  {
   "cell_type": "markdown",
   "metadata": {},
   "source": [
    "## Plot profiles and EE trajectory"
   ]
  },
  {
   "cell_type": "code",
   "execution_count": null,
   "metadata": {},
   "outputs": [],
   "source": [
    "rotate_90 = get_rotation_matrix(90)  # Ensure this gets a 2D rotation matrix.\n",
    "\n",
    "P_EE['Z'] = 0  # This line and the next are no longer relevant.\n",
    "P_L1['Z'] = 0\n",
    "\n",
    "timestep = 0\n",
    "plt.figure(figsize=(5, 5))\n",
    "ax = plt.axes()  # No projection needed.\n",
    "\n",
    "for timestep in range(57):  # Including 56\n",
    "    pelvis_pos = pelvis_marker_aligned.iloc[timestep]\n",
    "    pelvis_chair = pelvis_to_chair.iloc[timestep].T\n",
    "\n",
    "    l1_vector = rotate_90 @ P_L1.iloc[timestep].T\n",
    "    l1_origin = pelvis_pos\n",
    "    l1_pos = pelvis_pos + l1_vector\n",
    "\n",
    "    l2_pos = rotate_90 @ P_EE.iloc[timestep].T\n",
    "    l2_origin = l1_pos\n",
    "    l2_vector = l2_pos - l1_vector\n",
    "\n",
    "    ee_pos = pelvis_pos + l2_pos\n",
    "\n",
    "    ax.scatter(*pelvis_pos[:2], color=\"b\", s=2)\n",
    "    ax.scatter(*l1_pos[:2], color=\"g\", s=2)\n",
    "\n",
    "    if timestep == 0 or timestep == 56:\n",
    "        ax.text(*pelvis_pos[:2] + 0.05, \"Pelvis\", horizontalalignment='left')\n",
    "        ax.text(*l1_pos[:2] + 0.05, \"L1\")\n",
    "\n",
    "        if timestep == 0:\n",
    "            ax.scatter(*pelvis_pos[:2], color=\"b\", alpha=0.5)\n",
    "            ax.scatter(*l1_pos[:2], color=\"g\", alpha=0.5)\n",
    "            ax.quiver(*l1_origin[:2], *l1_vector[:2], color=\"g\", angles='xy', scale_units='xy', scale=1, alpha=0.5)\n",
    "            ax.quiver(*l2_origin[:2], *l2_vector[:2], color=\"r\", angles='xy', scale_units='xy', scale=1, alpha=0.5)\n",
    "        else:\n",
    "            ax.scatter(*pelvis_pos[:2], color=\"b\")\n",
    "            ax.scatter(*l1_pos[:2], color=\"g\")\n",
    "            ax.quiver(*l1_origin[:2], *l1_vector[:2], color=\"g\", angles='xy', scale_units='xy', scale=1)\n",
    "            ax.quiver(*l2_origin[:2], *l2_vector[:2], color=\"r\", angles='xy', scale_units='xy', scale=1)\n",
    "\n",
    "ax.scatter(*chair_position[:2], color=\"r\")\n",
    "ax.text(*chair_position[:2] - 0.1, \"Chair\")\n",
    "\n",
    "origin = [0, 0]\n",
    "ax.scatter(*origin, color=\"k\")\n",
    "ax.text(*origin, \"Origin\")\n",
    "\n",
    "ax.hlines(y=chair_position[1]-0.02, xmin=-1, xmax=-0.4, linewidth=4, color='brown')\n",
    "ax.vlines(x=-0.4, ymin=0, ymax=chair_position[1]-0.015, linewidth=4, color='brown')\n",
    "# No longer use pelvis_pos and pelvis_chair for 3D quiver.\n",
    "\n",
    "ax.set_xlim([-1, pelvis_marker_aligned['X'].max()+ 0.2] )\n",
    "ax.set_ylim([0, 1.1])\n",
    "\n",
    "ax.set_xlabel('X (m)')\n",
    "ax.set_ylabel('Y (m)')\n",
    "ax.set_title(\"Device Joint Trajectories\")\n",
    "\n",
    "plt.savefig(\"../paper_figures/device_joint_trajectories.svg\", format=\"svg\")\n",
    "plt.show()"
   ]
  },
  {
   "cell_type": "code",
   "execution_count": null,
   "metadata": {},
   "outputs": [],
   "source": [
    "fig, axs = plt.subplots(2, 2, figsize=(10, 5), sharex=True)\n",
    "fig.suptitle(f\"L1: {float(l1):.2f} m, L2: {float(0.41):.2f} m\")\n",
    "axs[0, 0].plot(motion_percentage, optimal_profile[['force_X', 'force_Y']])\n",
    "axs[0, 0].set_ylabel(\"Force (N)\")\n",
    "axs[0, 0].legend([\"X\", \"Y\", \"Z\"])\n",
    "axs[0, 0].grid()\n",
    "\n",
    "axs[1, 0].plot(motion_percentage, optimal_profile.tau_1, label=r\"$\\tau_1$\")\n",
    "axs[1, 0].axhline(y=motor_config[\"AK70-10\"]['T_max'], linestyle=\"--\", color=\"C0\")\n",
    "axs[1, 0].plot(motion_percentage, optimal_profile.tau_2, label=r\"$\\tau_2$\")\n",
    "axs[1, 0].axhline(y=motor_config[\"AK60-6\"]['T_max'], linestyle=\"--\", color=\"orange\")\n",
    "axs[1, 0].legend()\n",
    "axs[1, 0].set_xlabel(\"% of STS\")\n",
    "axs[1, 0].set_ylabel(\"Torque (Nm)\")\n",
    "axs[1, 0].grid()\n",
    "\n",
    "axs[0, 1].plot(motion_percentage, optimal_profile.theta_1, label=r\"$\\theta_1$\", color=\"C0\")\n",
    "axs[0, 1].axhline(y=theta_1_lims[0], linestyle=\"--\", color=\"C0\")\n",
    "axs[0, 1].axhline(y=theta_1_lims[1], linestyle=\"--\", color=\"C0\")\n",
    "axs[0, 1].plot(motion_percentage, optimal_profile.theta_2, label=r\"$\\theta_2$\", color=\"orange\")\n",
    "axs[0, 1].axhline(y=theta_2_lims[0], linestyle=\"--\", color=\"orange\")\n",
    "axs[0, 1].axhline(y=theta_2_lims[1], linestyle=\"--\", color=\"orange\")\n",
    "axs[0, 1].legend()\n",
    "axs[0, 1].set_ylabel(\"rad\")\n",
    "axs[0, 1].grid()\n",
    "\n",
    "# Add dashed line for max rad/s with label\n",
    "axs[1, 1].plot(motion_percentage, theta_1_dot, label=r\"$\\dot\\theta_1$\")\n",
    "axs[1, 1].plot(motion_percentage, theta_2_dot, label=r\"$\\dot\\theta_2$\")\n",
    "axs[1, 1].axhline(y=15.5, linestyle=\"--\", color=\"k\")\n",
    "axs[1, 1].axhline(y=-15.5, linestyle=\"--\", color=\"k\")\n",
    "axs[1, 1].grid()\n",
    "axs[1, 1].legend()\n",
    "axs[1, 1].set_xlabel(\"% of STS\")\n",
    "axs[1, 1].set_ylabel(\"rad/s\")\n",
    "\n",
    "plt.savefig(\"../paper_figures/optimal_profiles_combined.svg\", format=\"svg\")"
   ]
  },
  {
   "cell_type": "code",
   "execution_count": null,
   "metadata": {},
   "outputs": [],
   "source": []
  }
 ],
 "metadata": {
  "kernelspec": {
   "display_name": "Python 3 (ipykernel)",
   "language": "python",
   "name": "python3"
  },
  "language_info": {
   "codemirror_mode": {
    "name": "ipython",
    "version": 3
   },
   "file_extension": ".py",
   "mimetype": "text/x-python",
   "name": "python",
   "nbconvert_exporter": "python",
   "pygments_lexer": "ipython3",
   "version": "3.10.13"
  }
 },
 "nbformat": 4,
 "nbformat_minor": 4
}
