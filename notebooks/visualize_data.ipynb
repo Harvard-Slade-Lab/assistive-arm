{
 "cells": [
  {
   "cell_type": "code",
   "execution_count": null,
   "metadata": {},
   "outputs": [],
   "source": [
    "%reload_ext autoreload\n",
    "%autoreload 2\n",
    "\n",
    "import pandas as pd\n",
    "from pathlib import Path\n",
    "import yaml\n",
    "\n",
    "import matplotlib.pyplot as plt\n",
    "import matplotlib.ticker as mticker\n",
    "\n",
    "from assistive_arm.utils.plotting import extract_muscle_activations, plot_res_assist_forces, plot_residual_forces"
   ]
  },
  {
   "cell_type": "markdown",
   "metadata": {},
   "source": [
    "### Setup paths"
   ]
  },
  {
   "cell_type": "code",
   "execution_count": null,
   "metadata": {},
   "outputs": [],
   "source": [
    "# plt.style.use('fivethirtyeight')\n",
    "plt.style.use('../paper.mplstyle')"
   ]
  },
  {
   "cell_type": "code",
   "execution_count": null,
   "metadata": {},
   "outputs": [],
   "source": [
    "solutions_path = Path(\"../moco/control_solutions/\")\n",
    "subject = \"subject_4\"\n",
    "subject_data = Path(\"/Users/xabieririzar/Desktop/Life/Studium/TUM/Master_Robotics/Harvard/Thesis/subject_testing/subject_data/\") / subject\n",
    "trial = subject_data / \"trial_4\"\n",
    "\n",
    "# solution_assist_false = solutions_path / \"opencap_simple_assistance_false_2023-09-22_17-13.sto\"\n",
    "solution_assist_false = solutions_path / \"subject_4_simple_trial_3_assistance_none_2023-11-15_14-59.sto\"\n",
    "solution_assist_true = solutions_path / \"subject_4_simple_trial_4_assistance_true_2023-10-11_08-20.sto\"\n",
    "grfs = trial / \"grf_filtered.mot\""
   ]
  },
  {
   "cell_type": "markdown",
   "metadata": {},
   "source": [
    "### Read control solutions and config file"
   ]
  },
  {
   "cell_type": "code",
   "execution_count": null,
   "metadata": {},
   "outputs": [],
   "source": [
    "df_assist_false = pd.read_csv(solution_assist_false, delimiter=\"\\t\", skiprows=18)\n",
    "df_assist_true = pd.read_csv(solution_assist_true, delimiter=\"\\t\", skiprows=18)\n",
    "ground_forces = pd.read_csv(grfs, delimiter=\"\\t\", skiprows=6)\n",
    "\n",
    "config_path = solutions_path / f\"{solution_assist_false.stem}.yaml\"\n",
    "with open(config_path, \"r\") as f:\n",
    "    config_file = yaml.load(f, Loader=yaml.FullLoader)\n",
    "print(yaml.dump(config_file, indent=4, sort_keys=False))"
   ]
  },
  {
   "cell_type": "code",
   "execution_count": null,
   "metadata": {},
   "outputs": [],
   "source": [
    "# def plot_residual_forces(df: pd.DataFrame, config_file: dict):\n",
    "#     tx = 'reserve_pelvis_tx' if config_file[\"minimal_actuators\"] else '/forceset/reserve_jointset_ground_pelvis_pelvis_tx'\n",
    "#     ty = 'reserve_pelvis_ty' if config_file[\"minimal_actuators\"] else '/forceset/reserve_jointset_ground_pelvis_pelvis_ty'\n",
    "#     tz = 'reserve_pelvis_tz' if config_file[\"minimal_actuators\"] else '/forceset/reserve_jointset_ground_pelvis_pelvis_tz'\n",
    "\n",
    "#     plt.plot(df.time, df[tx]*config_file[\"actuator_magnitude\"], label=f'Residual X')\n",
    "#     plt.plot(df.time, df[ty]*config_file[\"actuator_magnitude\"], label=f'Residual Y')\n",
    "#     plt.plot(df.time, df[tz]*config_file[\"actuator_magnitude\"], label=f'Residual Z')\n",
    "#     plt.xlabel(\"Time [s]\")\n",
    "#     plt.ylabel(\"Force [N]\")\n",
    "#     plt.title(f\"Residual forces ({'assisted' if config_file['assistive_force'] else 'unassisted'})\")\n",
    "#     plt.legend()\n",
    "#     plt.show()"
   ]
  },
  {
   "cell_type": "code",
   "execution_count": null,
   "metadata": {},
   "outputs": [],
   "source": [
    "# plot_residual_forces(df=df_assist_false, config_file=config_file)"
   ]
  },
  {
   "cell_type": "code",
   "execution_count": null,
   "metadata": {},
   "outputs": [],
   "source": [
    "ground_forces = ground_forces[(ground_forces[\"time\"] >= config_file[\"t_0\"]) & (ground_forces[\"time\"] <= config_file[\"t_f\"])]\n",
    "\n",
    "dfs = {}\n",
    "# dfs[\"assist_false\"] = df_assist_false\n",
    "dfs[\"assist_true\"] = df_assist_true\n",
    "dfs[\"ground_forces\"] = ground_forces"
   ]
  },
  {
   "cell_type": "code",
   "execution_count": null,
   "metadata": {},
   "outputs": [],
   "source": [
    "# plot_res_assist_forces(time=df_assist_true.time, dataframes=dfs, figsize=(8,5), config=config_file)"
   ]
  },
  {
   "cell_type": "markdown",
   "metadata": {},
   "source": [
    "### Plot residual forces"
   ]
  },
  {
   "cell_type": "code",
   "execution_count": null,
   "metadata": {},
   "outputs": [],
   "source": [
    "# plot_residual_forces(df_assist_true, config_file=config_file)"
   ]
  },
  {
   "cell_type": "code",
   "execution_count": null,
   "metadata": {},
   "outputs": [],
   "source": [
    "simple_df_false_activations = extract_muscle_activations(df_assist_false, apply_filter=False)\n",
    "simple_df_true_reduced_activations = extract_muscle_activations(df_assist_true, apply_filter=False)[simple_df_false_activations.columns]\n",
    "\n",
    "# Only look at recfem and vasmed\n",
    "simple_df_false_activations = simple_df_false_activations[[\"recfem_r\", \"vasmed_r\", \"bflh_r\", \"bfsh_r\", \"recfem_l\", \"vasmed_l\", \"bflh_l\", \"bfsh_l\", \"soleus_r\", \"soleus_l\", \"tibant_r\", \"tibant_l\"]]\n",
    "simple_df_false_activations = simple_df_false_activations[[\"recfem_r\", \"vasmed_r\", \"recfem_l\", \"vasmed_l\", \"soleus_r\", \"soleus_l\", \"bflh_r\", \"bflh_l\", \"tibant_r\", \"tibant_l\"]]\n",
    "simple_df_true_reduced_activations = simple_df_true_reduced_activations[[\"recfem_r\", \"vasmed_r\", \"bflh_r\", \"bfsh_r\", \"recfem_l\", \"vasmed_l\", \"bflh_l\", \"bfsh_l\"]]#, \"vasmed_l\", \"soleus_r\", \"soleus_l\", \"tibant_r\", \"tibant_l\"]]"
   ]
  },
  {
   "cell_type": "code",
   "execution_count": null,
   "metadata": {},
   "outputs": [],
   "source": [
    "fig, axs = plt.subplots(figsize=(8, 4), sharex=True)\n",
    "\n",
    "fig.suptitle(\"STS OpenSim activations\")\n",
    "\n",
    "# Activations with no assistance\n",
    "axs.plot(df_assist_false.time, simple_df_false_activations, label=simple_df_false_activations.columns)\n",
    "axs.set_xlabel(\"Time (s)\")\n",
    "axs.set_ylabel(\"Activation (%)\") # percentage\n",
    "axs.yaxis.set_major_formatter(mticker.PercentFormatter(xmax=1, symbol=None))\n",
    "\n",
    "handles, labels = axs.get_legend_handles_labels()\n",
    "fig.legend(handles, labels, loc='upper center', bbox_to_anchor=(0.5, 0.93),\n",
    "           ncol=5, fontsize=10)\n",
    "# Define xlabel\n",
    "\n",
    "plt.tight_layout(rect=[0, 0.03, 1, 0.93])\n",
    "plt.savefig(\"/Users/xabieririzar/Desktop/Life/Studium/TUM/Master_Robotics/Harvard/Thesis/Thesis LaTeX/Master Thesis Xabier Irizar/figures/emg_plots/osim_activations.png\", dpi=500, bbox_inches='tight')\n",
    "plt.show()"
   ]
  }
 ],
 "metadata": {
  "kernelspec": {
   "display_name": ".venv",
   "language": "python",
   "name": "python3"
  },
  "language_info": {
   "codemirror_mode": {
    "name": "ipython",
    "version": 3
   },
   "file_extension": ".py",
   "mimetype": "text/x-python",
   "name": "python",
   "nbconvert_exporter": "python",
   "pygments_lexer": "ipython3",
   "version": "3.10.14"
  }
 },
 "nbformat": 4,
 "nbformat_minor": 2
}
