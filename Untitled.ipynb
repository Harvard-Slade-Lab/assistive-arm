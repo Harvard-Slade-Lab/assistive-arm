{
 "cells": [
  {
   "cell_type": "code",
   "execution_count": 1,
   "id": "3804fbc2",
   "metadata": {},
   "outputs": [],
   "source": [
    "import numpy as np\n",
    "import opensim as osim"
   ]
  },
  {
   "cell_type": "code",
   "execution_count": 2,
   "id": "25aa8246",
   "metadata": {
    "scrolled": true
   },
   "outputs": [
    {
     "name": "stdout",
     "output_type": "stream",
     "text": [
      "[info] Updating Model file from 30000 to latest format...\n",
      "[info] Loaded model gait10dof18musc.osim from file ../../../Documents/OpenSim/4.4/Models/Gait10dof18musc/gait10dof18musc.osim\n",
      "[warning] Couldn't find file 'sacrum.vtp'.\n",
      "[warning] Couldn't find file 'pelvis.vtp'.\n",
      "[warning] Couldn't find file 'l_pelvis.vtp'.\n",
      "[warning] Couldn't find file 'femur_r.vtp'.\n",
      "[warning] Couldn't find file 'tibia_r.vtp'.\n",
      "[warning] Couldn't find file 'fibula.vtp'.\n",
      "[warning] Couldn't find file 'talus.vtp'.\n",
      "[warning] Couldn't find file 'foot.vtp'.\n",
      "[warning] Couldn't find file 'bofoot.vtp'.\n",
      "[warning] Couldn't find file 'femur_l.vtp'.\n",
      "[warning] Couldn't find file 'tibia_l.vtp'.\n",
      "[warning] Couldn't find file 'l_fibula.vtp'.\n",
      "[warning] Couldn't find file 'l_talus.vtp'.\n",
      "[warning] Couldn't find file 'l_foot.vtp'.\n",
      "[warning] Couldn't find file 'l_bofoot.vtp'.\n",
      "[warning] Couldn't find file 'hat_spine.vtp'.\n",
      "[warning] Couldn't find file 'hat_jaw.vtp'.\n",
      "[warning] Couldn't find file 'hat_skull.vtp'.\n",
      "[warning] Couldn't find file 'hat_ribs.vtp'.\n",
      "[info] ControllerSet 'Controllers' was renamed and is being reset to 'controllerset'.\n",
      "[info] ComponentSet 'MiscComponents' was renamed and is being reset to 'componentset'.\n"
     ]
    }
   ],
   "source": [
    "simple_model = osim.Model(\"../../../Documents/OpenSim/4.4/Models/Gait10dof18musc/gait10dof18musc.osim\")"
   ]
  },
  {
   "cell_type": "code",
   "execution_count": null,
   "id": "2e2b0a27",
   "metadata": {},
   "outputs": [],
   "source": [
    "hamstrings_r, bifemsh_r, glut_max_r, iliopsoas_r, rect_fem_r, vasti_r, gastroc_r, soleus_r, tib_ant_r"
   ]
  },
  {
   "cell_type": "code",
   "execution_count": 3,
   "id": "9a55f550",
   "metadata": {},
   "outputs": [
    {
     "name": "stdout",
     "output_type": "stream",
     "text": [
      "[info] Loaded model muscle_driven_LaiUhlrich2022_scaled from file ./moco/models/muscle_driven_LaiUhlrich2022_scaled.osim\n",
      "[warning] Couldn't find file 'r_pelvis.vtp'.\n",
      "[warning] Couldn't find file 'l_pelvis.vtp'.\n",
      "[warning] Couldn't find file 'sacrum.vtp'.\n",
      "[warning] Couldn't find file 'r_femur.vtp'.\n",
      "[warning] Couldn't find file 'r_tibia.vtp'.\n",
      "[warning] Couldn't find file 'r_fibula.vtp'.\n",
      "[warning] Couldn't find file 'r_patella.vtp'.\n",
      "[warning] Couldn't find file 'r_talus.vtp'.\n",
      "[warning] Couldn't find file 'r_foot.vtp'.\n",
      "[warning] Couldn't find file 'r_bofoot.vtp'.\n",
      "[warning] Couldn't find file 'l_femur.vtp'.\n",
      "[warning] Couldn't find file 'l_tibia.vtp'.\n",
      "[warning] Couldn't find file 'l_fibula.vtp'.\n",
      "[warning] Couldn't find file 'l_patella.vtp'.\n",
      "[warning] Couldn't find file 'l_talus.vtp'.\n",
      "[warning] Couldn't find file 'l_foot.vtp'.\n",
      "[warning] Couldn't find file 'l_bofoot.vtp'.\n",
      "[warning] Couldn't find file 'hat_spine.vtp'.\n",
      "[warning] Couldn't find file 'hat_jaw.vtp'.\n",
      "[warning] Couldn't find file 'hat_skull.vtp'.\n",
      "[warning] Couldn't find file 'hat_ribs_scap.vtp'.\n",
      "[warning] Couldn't find file 'humerus_rv.vtp'.\n",
      "[warning] Couldn't find file 'ulna_rv.vtp'.\n",
      "[warning] Couldn't find file 'radius_rv.vtp'.\n",
      "[warning] Couldn't find file 'pisiform_rvs.vtp'.\n",
      "[warning] Couldn't find file 'lunate_rvs.vtp'.\n",
      "[warning] Couldn't find file 'scaphoid_rvs.vtp'.\n",
      "[warning] Couldn't find file 'triquetrum_rvs.vtp'.\n",
      "[warning] Couldn't find file 'hamate_rvs.vtp'.\n",
      "[warning] Couldn't find file 'capitate_rvs.vtp'.\n",
      "[warning] Couldn't find file 'trapezoid_rvs.vtp'.\n",
      "[warning] Couldn't find file 'trapezium_rvs.vtp'.\n",
      "[warning] Couldn't find file 'metacarpal2_rvs.vtp'.\n",
      "[warning] Couldn't find file 'index_proximal_rvs.vtp'.\n",
      "[warning] Couldn't find file 'index_medial_rvs.vtp'.\n",
      "[warning] Couldn't find file 'index_distal_rvs.vtp'.\n",
      "[warning] Couldn't find file 'metacarpal3_rvs.vtp'.\n",
      "[warning] Couldn't find file 'middle_proximal_rvs.vtp'.\n",
      "[warning] Couldn't find file 'middle_medial_rvs.vtp'.\n",
      "[warning] Couldn't find file 'middle_distal_rvs.vtp'.\n",
      "[warning] Couldn't find file 'metacarpal4_rvs.vtp'.\n",
      "[warning] Couldn't find file 'ring_proximal_rvs.vtp'.\n",
      "[warning] Couldn't find file 'ring_medial_rvs.vtp'.\n",
      "[warning] Couldn't find file 'ring_distal_rvs.vtp'.\n",
      "[warning] Couldn't find file 'metacarpal5_rvs.vtp'.\n",
      "[warning] Couldn't find file 'little_proximal_rvs.vtp'.\n",
      "[warning] Couldn't find file 'little_medial_rvs.vtp'.\n",
      "[warning] Couldn't find file 'little_distal_rvs.vtp'.\n",
      "[warning] Couldn't find file 'metacarpal1_rvs.vtp'.\n",
      "[warning] Couldn't find file 'thumb_proximal_rvs.vtp'.\n",
      "[warning] Couldn't find file 'thumb_distal_rvs.vtp'.\n",
      "[warning] Couldn't find file 'humerus_lv.vtp'.\n",
      "[warning] Couldn't find file 'ulna_lv.vtp'.\n",
      "[warning] Couldn't find file 'radius_lv.vtp'.\n",
      "[warning] Couldn't find file 'pisiform_lvs.vtp'.\n",
      "[warning] Couldn't find file 'lunate_lvs.vtp'.\n",
      "[warning] Couldn't find file 'scaphoid_lvs.vtp'.\n",
      "[warning] Couldn't find file 'triquetrum_lvs.vtp'.\n",
      "[warning] Couldn't find file 'hamate_lvs.vtp'.\n",
      "[warning] Couldn't find file 'capitate_lvs.vtp'.\n",
      "[warning] Couldn't find file 'trapezoid_lvs.vtp'.\n",
      "[warning] Couldn't find file 'trapezium_lvs.vtp'.\n",
      "[warning] Couldn't find file 'metacarpal2_lvs.vtp'.\n",
      "[warning] Couldn't find file 'index_proximal_lvs.vtp'.\n",
      "[warning] Couldn't find file 'index_medial_lvs.vtp'.\n",
      "[warning] Couldn't find file 'index_distal_lvs.vtp'.\n",
      "[warning] Couldn't find file 'metacarpal3_lvs.vtp'.\n",
      "[warning] Couldn't find file 'middle_proximal_lvs.vtp'.\n",
      "[warning] Couldn't find file 'middle_medial_lvs.vtp'.\n",
      "[warning] Couldn't find file 'middle_distal_lvs.vtp'.\n",
      "[warning] Couldn't find file 'metacarpal4_lvs.vtp'.\n",
      "[warning] Couldn't find file 'ring_proximal_lvs.vtp'.\n",
      "[warning] Couldn't find file 'ring_medial_lvs.vtp'.\n",
      "[warning] Couldn't find file 'ring_distal_lvs.vtp'.\n",
      "[warning] Couldn't find file 'metacarpal5_lvs.vtp'.\n",
      "[warning] Couldn't find file 'little_proximal_lvs.vtp'.\n",
      "[warning] Couldn't find file 'little_medial_lvs.vtp'.\n",
      "[warning] Couldn't find file 'little_distal_lvs.vtp'.\n",
      "[warning] Couldn't find file 'metacarpal1_lvs.vtp'.\n",
      "[warning] Couldn't find file 'thumb_proximal_lvs.vtp'.\n",
      "[warning] Couldn't find file 'thumb_distal_lvs.vtp'.\n"
     ]
    }
   ],
   "source": [
    "haedo_model = osim.Model(\"./moco/models/muscle_driven_LaiUhlrich2022_scaled.osim\")"
   ]
  },
  {
   "cell_type": "code",
   "execution_count": 4,
   "id": "33d038ee",
   "metadata": {},
   "outputs": [],
   "source": [
    "haedo_coordinates = haedo_model.updCoordinateSet()\n",
    "simple_coordinates = simple_model.updCoordinateSet()\n",
    "\n",
    "haedo_joints = haedo_model.updJointSet()\n",
    "haedo_joint_names = [joint.getName() for joint in haedo_joints]\n",
    "simple_joints = simple_model.updJointSet()\n",
    "simple_joint_names = [joint.getName() for joint in simple_joints]\n",
    "\n",
    "haedo_coordinate_names = [coordinate.getName() for coordinate in haedo_coordinates]"
   ]
  },
  {
   "cell_type": "code",
   "execution_count": 5,
   "id": "42618243",
   "metadata": {},
   "outputs": [],
   "source": [
    "for haedo_joint_name, simple_joint_name in zip(haedo_joint_names, simple_joint_names):\n",
    "    if haedo_joint_name.startswith(\"walker_knee\"):\n",
    "        haedo_joint = haedo_joints.get(haedo_joints.getIndex(haedo_joint_name))\n",
    "        simple_joint = simple_joints.get(simple_joints.getIndex(simple_joint_name))\n",
    "        \n",
    "        haedo_frame_0 = haedo_joint.get_frames(0)\n",
    "        haedo_frame_1 = haedo_joint.get_frames(1)\n",
    "        \n",
    "        simple_frame_0 = simple_joint.get_frames(0)\n",
    "        simple_frame_1 = simple_joint.get_frames(1)\n",
    "        \n",
    "        new_orientation_0 = osim.Vec3(0, 0, 0)\n",
    "        new_orientation_1 = osim.Vec3(0, 0, 0)\n",
    "        \n",
    "        simple_frame_0.set_orientation(new_orientation_0)\n",
    "        #simple_frame_1.set_orientation(new_orientation_1)"
   ]
  },
  {
   "cell_type": "code",
   "execution_count": 8,
   "id": "be2a4de1",
   "metadata": {},
   "outputs": [
    {
     "name": "stdout",
     "output_type": "stream",
     "text": [
      "simple : pelvis_tilt -1.57079633 1.57079633\n",
      "haedo:  pelvis_tilt -1.57079633 1.57079633\n",
      "\n",
      "simple : pelvis_tx -5.0 5.0\n",
      "haedo:  pelvis_tx -50.0 50.0\n",
      "\n",
      "simple : pelvis_ty -1.0 2.0\n",
      "haedo:  pelvis_ty -1.0 2.0\n",
      "\n",
      "simple : hip_flexion_r -0.52359878 2.0943951\n",
      "haedo:  hip_flexion_r -0.52359878 2.0943951\n",
      "\n",
      "simple : knee_angle_r 0.0 2.44346095279206\n",
      "haedo:  knee_angle_r 0.0 2.44346095279206\n",
      "\n",
      "simple : ankle_angle_r -0.8726646259971648 0.8726646259971648\n",
      "haedo:  ankle_angle_r -0.8726646259971648 0.8726646259971648\n",
      "\n",
      "simple : hip_flexion_l -0.52359878 2.0943951\n",
      "haedo:  hip_flexion_l -0.52359878 2.0943951\n",
      "\n",
      "simple : knee_angle_l 0.0 2.44346095279206\n",
      "haedo:  knee_angle_l 0.0 2.44346095279206\n",
      "\n",
      "simple : ankle_angle_l -0.8726646259971648 0.8726646259971648\n",
      "haedo:  ankle_angle_l -0.8726646259971648 0.8726646259971648\n",
      "\n",
      "simple : lumbar_extension -1.57079633 1.57079633\n",
      "haedo:  lumbar_extension -1.57079633 1.57079633\n",
      "\n"
     ]
    }
   ],
   "source": [
    "for coordinate in simple_coordinates:\n",
    "    old_coordinate = haedo_coordinates.get(haedo_coordinates.getIndex(coordinate.getName()))\n",
    "    \n",
    "    \n",
    "    if coordinate.getName().startswith(\"ankle\") or coordinate.getName().startswith(\"hip\"):\n",
    "        coordinate.set_range(0, old_coordinate.get_range(0))\n",
    "        coordinate.set_range(1, old_coordinate.get_range(1))\n",
    "    print(\"simple :\", coordinate.getName(), coordinate.get_range(0), coordinate.get_range(1))\n",
    "    print(\"haedo: \", old_coordinate.getName(), old_coordinate.get_range(0), old_coordinate.get_range(1))\n",
    "    print()\n",
    "    "
   ]
  },
  {
   "cell_type": "code",
   "execution_count": 9,
   "id": "da4d6dd3",
   "metadata": {},
   "outputs": [
    {
     "data": {
      "text/plain": [
       "True"
      ]
     },
     "execution_count": 9,
     "metadata": {},
     "output_type": "execute_result"
    }
   ],
   "source": [
    "simple_model.finalizeConnections()\n",
    "simple_model.printToXML(\"simplified_model.osim\")"
   ]
  },
  {
   "cell_type": "code",
   "execution_count": 123,
   "id": "f7832222",
   "metadata": {},
   "outputs": [],
   "source": [
    "import pandas as pd\n",
    "\n",
    "from assistive_arm.utils.data_preprocessing import read_headers"
   ]
  },
  {
   "cell_type": "code",
   "execution_count": 124,
   "id": "ebbb5d97",
   "metadata": {},
   "outputs": [],
   "source": [
    "headers = read_headers(\"./moco/motions/sit_stand_2_w_grf.mot\", 10)\n",
    "kin = pd.read_csv(\"./moco/motions/sit_stand_2_w_grf.mot\", delimiter=\"\\t\", skiprows=10)"
   ]
  },
  {
   "cell_type": "code",
   "execution_count": 125,
   "id": "2797639d",
   "metadata": {},
   "outputs": [],
   "source": [
    "new_range = [-120, 10]"
   ]
  },
  {
   "cell_type": "code",
   "execution_count": 126,
   "id": "57a67bd9",
   "metadata": {},
   "outputs": [],
   "source": [
    "def convert_range_inverted(array, old_min, old_max, new_min, new_max):\n",
    "    return (1 - (array - old_min) / (old_max - old_min)) * (new_max - new_min) + new_min\n",
    "\n",
    "def convert_range(array, old_min, old_max, new_min, new_max):\n",
    "    return ((array - old_min) / (old_max - old_min)) * (new_max - new_min) + new_min\n",
    "\n",
    "kin[\"knee_angle_r\"] = convert_range_inverted(kin[\"knee_angle_r\"], 0, 140, -120, 10)\n",
    "kin[\"knee_angle_l\"] = convert_range_inverted(kin[\"knee_angle_l\"], 0, 140, -120, 10)\n",
    "#kin[\"hip_flexion_r\"] = convert_range(kin[\"hip_flexion_r\"], -30, 120, -120, 120)\n",
    "#kin[\"hip_flexion_l\"] = convert_range(kin[\"hip_flexion_r\"], -30, 120, -120, 120)\n"
   ]
  },
  {
   "cell_type": "code",
   "execution_count": 127,
   "id": "178e4420",
   "metadata": {},
   "outputs": [
    {
     "data": {
      "text/plain": [
       "['Coordinates\\n',\n",
       " 'version=1\\n',\n",
       " 'nRows=239\\n',\n",
       " 'nColumns=36\\n',\n",
       " 'inDegrees=yes\\n',\n",
       " '\\n',\n",
       " 'Units are S.I. units (second, meters, Newtons, ...)\\n',\n",
       " \"If the header above contains a line with 'inDegrees', this indicates whether rotational values are in degrees (yes) or radians (no).\\n\",\n",
       " '\\n',\n",
       " 'endheader\\n']"
      ]
     },
     "execution_count": 127,
     "metadata": {},
     "output_type": "execute_result"
    }
   ],
   "source": [
    "new_headers = []\n",
    "for header in headers:\n",
    "    try:\n",
    "        new_headers.append(f\"{header[0]}\\n\")\n",
    "    except:\n",
    "        new_headers.append(\"\\n\")\n",
    "\n",
    "new_headers"
   ]
  },
  {
   "cell_type": "code",
   "execution_count": 128,
   "id": "60a8fdee",
   "metadata": {},
   "outputs": [],
   "source": [
    "filename = \"./filtered.mot\"\n",
    "kin.to_csv(filename, sep=\"\\t\", index=False)\n",
    "# Add header containing version, nRows, nColumns, inDegrees\n",
    "with open(filename, 'r') as f:\n",
    "    contents = f.readlines()\n",
    "\n",
    "with open(filename, 'w') as f:\n",
    "    f.writelines(new_headers + contents)"
   ]
  },
  {
   "cell_type": "code",
   "execution_count": null,
   "id": "80217d54",
   "metadata": {},
   "outputs": [],
   "source": []
  }
 ],
 "metadata": {
  "kernelspec": {
   "display_name": "Python 3 (ipykernel)",
   "language": "python",
   "name": "python3"
  },
  "language_info": {
   "codemirror_mode": {
    "name": "ipython",
    "version": 3
   },
   "file_extension": ".py",
   "mimetype": "text/x-python",
   "name": "python",
   "nbconvert_exporter": "python",
   "pygments_lexer": "ipython3",
   "version": "3.11.4"
  }
 },
 "nbformat": 4,
 "nbformat_minor": 5
}
