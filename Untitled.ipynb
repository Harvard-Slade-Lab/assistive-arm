{
 "cells": [
  {
   "cell_type": "code",
   "execution_count": 2,
   "id": "3804fbc2",
   "metadata": {},
   "outputs": [],
   "source": [
    "import numpy as np\n",
    "import opensim as osim"
   ]
  },
  {
   "cell_type": "code",
   "execution_count": 3,
   "id": "3aec3962-7982-4643-beaa-4c9647f675f5",
   "metadata": {},
   "outputs": [
    {
     "name": "stdout",
     "output_type": "stream",
     "text": [
      "[info] Loaded model opencap_simple_LaiUhlrich2022_scaled from file ./moco/models/opencap_simple_LaiUhlrich2022_scaled.osim\n",
      "[warning] Couldn't find file 'r_pelvis.vtp'.\n",
      "[warning] Couldn't find file 'l_pelvis.vtp'.\n",
      "[warning] Couldn't find file 'sacrum.vtp'.\n",
      "[warning] Couldn't find file 'r_femur.vtp'.\n",
      "[warning] Couldn't find file 'r_tibia.vtp'.\n",
      "[warning] Couldn't find file 'r_fibula.vtp'.\n",
      "[warning] Couldn't find file 'r_patella.vtp'.\n",
      "[warning] Couldn't find file 'r_talus.vtp'.\n",
      "[warning] Couldn't find file 'r_foot.vtp'.\n",
      "[warning] Couldn't find file 'r_bofoot.vtp'.\n",
      "[warning] Couldn't find file 'l_femur.vtp'.\n",
      "[warning] Couldn't find file 'l_tibia.vtp'.\n",
      "[warning] Couldn't find file 'l_fibula.vtp'.\n",
      "[warning] Couldn't find file 'l_patella.vtp'.\n",
      "[warning] Couldn't find file 'l_talus.vtp'.\n",
      "[warning] Couldn't find file 'l_foot.vtp'.\n",
      "[warning] Couldn't find file 'l_bofoot.vtp'.\n",
      "[warning] Couldn't find file 'hat_spine.vtp'.\n",
      "[warning] Couldn't find file 'hat_jaw.vtp'.\n",
      "[warning] Couldn't find file 'hat_skull.vtp'.\n",
      "[warning] Couldn't find file 'hat_ribs_scap.vtp'.\n",
      "[warning] Couldn't find file 'humerus_rv.vtp'.\n",
      "[warning] Couldn't find file 'ulna_rv.vtp'.\n",
      "[warning] Couldn't find file 'radius_rv.vtp'.\n",
      "[warning] Couldn't find file 'pisiform_rvs.vtp'.\n",
      "[warning] Couldn't find file 'lunate_rvs.vtp'.\n",
      "[warning] Couldn't find file 'scaphoid_rvs.vtp'.\n",
      "[warning] Couldn't find file 'triquetrum_rvs.vtp'.\n",
      "[warning] Couldn't find file 'hamate_rvs.vtp'.\n",
      "[warning] Couldn't find file 'capitate_rvs.vtp'.\n",
      "[warning] Couldn't find file 'trapezoid_rvs.vtp'.\n",
      "[warning] Couldn't find file 'trapezium_rvs.vtp'.\n",
      "[warning] Couldn't find file 'metacarpal2_rvs.vtp'.\n",
      "[warning] Couldn't find file 'index_proximal_rvs.vtp'.\n",
      "[warning] Couldn't find file 'index_medial_rvs.vtp'.\n",
      "[warning] Couldn't find file 'index_distal_rvs.vtp'.\n",
      "[warning] Couldn't find file 'metacarpal3_rvs.vtp'.\n",
      "[warning] Couldn't find file 'middle_proximal_rvs.vtp'.\n",
      "[warning] Couldn't find file 'middle_medial_rvs.vtp'.\n",
      "[warning] Couldn't find file 'middle_distal_rvs.vtp'.\n",
      "[warning] Couldn't find file 'metacarpal4_rvs.vtp'.\n",
      "[warning] Couldn't find file 'ring_proximal_rvs.vtp'.\n",
      "[warning] Couldn't find file 'ring_medial_rvs.vtp'.\n",
      "[warning] Couldn't find file 'ring_distal_rvs.vtp'.\n",
      "[warning] Couldn't find file 'metacarpal5_rvs.vtp'.\n",
      "[warning] Couldn't find file 'little_proximal_rvs.vtp'.\n",
      "[warning] Couldn't find file 'little_medial_rvs.vtp'.\n",
      "[warning] Couldn't find file 'little_distal_rvs.vtp'.\n",
      "[warning] Couldn't find file 'metacarpal1_rvs.vtp'.\n",
      "[warning] Couldn't find file 'thumb_proximal_rvs.vtp'.\n",
      "[warning] Couldn't find file 'thumb_distal_rvs.vtp'.\n",
      "[warning] Couldn't find file 'humerus_lv.vtp'.\n",
      "[warning] Couldn't find file 'ulna_lv.vtp'.\n",
      "[warning] Couldn't find file 'radius_lv.vtp'.\n",
      "[warning] Couldn't find file 'pisiform_lvs.vtp'.\n",
      "[warning] Couldn't find file 'lunate_lvs.vtp'.\n",
      "[warning] Couldn't find file 'scaphoid_lvs.vtp'.\n",
      "[warning] Couldn't find file 'triquetrum_lvs.vtp'.\n",
      "[warning] Couldn't find file 'hamate_lvs.vtp'.\n",
      "[warning] Couldn't find file 'capitate_lvs.vtp'.\n",
      "[warning] Couldn't find file 'trapezoid_lvs.vtp'.\n",
      "[warning] Couldn't find file 'trapezium_lvs.vtp'.\n",
      "[warning] Couldn't find file 'metacarpal2_lvs.vtp'.\n",
      "[warning] Couldn't find file 'index_proximal_lvs.vtp'.\n",
      "[warning] Couldn't find file 'index_medial_lvs.vtp'.\n",
      "[warning] Couldn't find file 'index_distal_lvs.vtp'.\n",
      "[warning] Couldn't find file 'metacarpal3_lvs.vtp'.\n",
      "[warning] Couldn't find file 'middle_proximal_lvs.vtp'.\n",
      "[warning] Couldn't find file 'middle_medial_lvs.vtp'.\n",
      "[warning] Couldn't find file 'middle_distal_lvs.vtp'.\n",
      "[warning] Couldn't find file 'metacarpal4_lvs.vtp'.\n",
      "[warning] Couldn't find file 'ring_proximal_lvs.vtp'.\n",
      "[warning] Couldn't find file 'ring_medial_lvs.vtp'.\n",
      "[warning] Couldn't find file 'ring_distal_lvs.vtp'.\n",
      "[warning] Couldn't find file 'metacarpal5_lvs.vtp'.\n",
      "[warning] Couldn't find file 'little_proximal_lvs.vtp'.\n",
      "[warning] Couldn't find file 'little_medial_lvs.vtp'.\n",
      "[warning] Couldn't find file 'little_distal_lvs.vtp'.\n",
      "[warning] Couldn't find file 'metacarpal1_lvs.vtp'.\n",
      "[warning] Couldn't find file 'thumb_proximal_lvs.vtp'.\n",
      "[warning] Couldn't find file 'thumb_distal_lvs.vtp'.\n"
     ]
    }
   ],
   "source": [
    "haedo_model = osim.Model(\"./moco/models/opencap_simple_LaiUhlrich2022_scaled.osim\")"
   ]
  },
  {
   "cell_type": "code",
   "execution_count": 4,
   "id": "6191fe95-1171-41ae-9b77-ccd558325698",
   "metadata": {},
   "outputs": [
    {
     "data": {
      "text/plain": [
       "True"
      ]
     },
     "execution_count": 4,
     "metadata": {},
     "output_type": "execute_result"
    }
   ],
   "source": [
    "time = np.linspace(1.8, 2.3283, 840)\n",
    "forces = np.ones(840)\n",
    "forces[316:] = 0\n",
    "\n",
    "force_function = osim.PiecewiseConstantFunction()\n",
    "force_function.setName(\"test_force\")\n",
    "\n",
    "for timestep, force in zip(time, forces):\n",
    "    force_function.addPoint(timestep, force)\n",
    "\n",
    "\n",
    "functionSet = osim.FunctionSet()\n",
    "functionSet.insert(0, force_function)\n"
   ]
  },
  {
   "cell_type": "code",
   "execution_count": 5,
   "id": "c8615780-361a-4fab-9f9b-93d50cdc4353",
   "metadata": {},
   "outputs": [],
   "source": [
    "body_to_be_affected = haedo_model.getBodySet().get(\"pelvis\")"
   ]
  },
  {
   "cell_type": "code",
   "execution_count": 6,
   "id": "d14db144-2e86-44b2-a8e8-1f7cf34aa2c6",
   "metadata": {},
   "outputs": [
    {
     "data": {
      "text/plain": [
       "True"
      ]
     },
     "execution_count": 6,
     "metadata": {},
     "output_type": "execute_result"
    }
   ],
   "source": [
    "prescribedForce = osim.PrescribedForce(\"force\", body_to_be_affected)\n",
    "\n",
    "forceFunctions = prescribedForce.upd_forceFunctions()\n",
    "\n",
    "prescribedForce.set_appliesForce(True)\n",
    "\n",
    "prescribedForce.set_pointIsGlobal(True)\n",
    "prescribedForce.set_forceIsGlobal(True)\n",
    "\n",
    "forceFunctions.set(0, force_function)"
   ]
  },
  {
   "cell_type": "code",
   "execution_count": 2,
   "id": "25aa8246",
   "metadata": {
    "scrolled": true
   },
   "outputs": [
    {
     "name": "stdout",
     "output_type": "stream",
     "text": [
      "[info] Updating Model file from 30000 to latest format...\n",
      "[info] Loaded model gait10dof18musc.osim from file ../../../Documents/OpenSim/4.4/Models/Gait10dof18musc/gait10dof18musc.osim\n",
      "[warning] Couldn't find file 'sacrum.vtp'.\n",
      "[warning] Couldn't find file 'pelvis.vtp'.\n",
      "[warning] Couldn't find file 'l_pelvis.vtp'.\n",
      "[warning] Couldn't find file 'femur_r.vtp'.\n",
      "[warning] Couldn't find file 'tibia_r.vtp'.\n",
      "[warning] Couldn't find file 'fibula.vtp'.\n",
      "[warning] Couldn't find file 'talus.vtp'.\n",
      "[warning] Couldn't find file 'foot.vtp'.\n",
      "[warning] Couldn't find file 'bofoot.vtp'.\n",
      "[warning] Couldn't find file 'femur_l.vtp'.\n",
      "[warning] Couldn't find file 'tibia_l.vtp'.\n",
      "[warning] Couldn't find file 'l_fibula.vtp'.\n",
      "[warning] Couldn't find file 'l_talus.vtp'.\n",
      "[warning] Couldn't find file 'l_foot.vtp'.\n",
      "[warning] Couldn't find file 'l_bofoot.vtp'.\n",
      "[warning] Couldn't find file 'hat_spine.vtp'.\n",
      "[warning] Couldn't find file 'hat_jaw.vtp'.\n",
      "[warning] Couldn't find file 'hat_skull.vtp'.\n",
      "[warning] Couldn't find file 'hat_ribs.vtp'.\n",
      "[info] ControllerSet 'Controllers' was renamed and is being reset to 'controllerset'.\n",
      "[info] ComponentSet 'MiscComponents' was renamed and is being reset to 'componentset'.\n"
     ]
    }
   ],
   "source": [
    "simple_model = osim.Model(\"../../../Documents/OpenSim/4.4/Models/Gait10dof18musc/gait10dof18musc.osim\")"
   ]
  },
  {
   "cell_type": "code",
   "execution_count": 6,
   "id": "f42cfcfb",
   "metadata": {},
   "outputs": [
    {
     "name": "stdout",
     "output_type": "stream",
     "text": [
      "/forceset/bflh_r\n",
      "/forceset/bfsh_r\n",
      "/forceset/gasmed_r\n",
      "/forceset/glmax1_r\n",
      "/forceset/psoas_r\n",
      "/forceset/recfem_r\n",
      "/forceset/soleus_r\n",
      "/forceset/tibant_r\n",
      "/forceset/vasmed_r\n",
      "/forceset/bflh_l\n",
      "/forceset/bfsh_l\n",
      "/forceset/gasmed_l\n",
      "/forceset/glmax1_l\n",
      "/forceset/psoas_l\n",
      "/forceset/recfem_l\n",
      "/forceset/soleus_l\n",
      "/forceset/tibant_l\n",
      "/forceset/vasmed_l\n",
      "/forceset/reserve_jointset_ground_pelvis_pelvis_tilt\n",
      "/forceset/reserve_jointset_ground_pelvis_pelvis_list\n",
      "/forceset/reserve_jointset_ground_pelvis_pelvis_rotation\n",
      "/forceset/reserve_jointset_ground_pelvis_pelvis_tx\n",
      "/forceset/reserve_jointset_ground_pelvis_pelvis_ty\n",
      "/forceset/reserve_jointset_ground_pelvis_pelvis_tz\n",
      "/forceset/reserve_jointset_hip_r_hip_flexion_r\n",
      "/forceset/reserve_jointset_hip_r_hip_adduction_r\n",
      "/forceset/reserve_jointset_hip_r_hip_rotation_r\n",
      "/forceset/reserve_jointset_walker_knee_r_knee_angle_r\n",
      "/forceset/reserve_jointset_ankle_r_ankle_angle_r\n",
      "/forceset/reserve_jointset_subtalar_r_subtalar_angle_r\n",
      "/forceset/reserve_jointset_mtp_r_mtp_angle_r\n",
      "/forceset/reserve_jointset_hip_l_hip_flexion_l\n",
      "/forceset/reserve_jointset_hip_l_hip_adduction_l\n",
      "/forceset/reserve_jointset_hip_l_hip_rotation_l\n",
      "/forceset/reserve_jointset_walker_knee_l_knee_angle_l\n",
      "/forceset/reserve_jointset_ankle_l_ankle_angle_l\n",
      "/forceset/reserve_jointset_subtalar_l_subtalar_angle_l\n",
      "/forceset/reserve_jointset_mtp_l_mtp_angle_l\n",
      "/forceset/reserve_jointset_back_lumbar_extension\n",
      "/forceset/reserve_jointset_back_lumbar_bending\n",
      "/forceset/reserve_jointset_back_lumbar_rotation\n",
      "/forceset/reserve_jointset_acromial_r_arm_flex_r\n",
      "/forceset/reserve_jointset_acromial_r_arm_add_r\n",
      "/forceset/reserve_jointset_acromial_r_arm_rot_r\n",
      "/forceset/reserve_jointset_elbow_r_elbow_flex_r\n",
      "/forceset/reserve_jointset_radioulnar_r_pro_sup_r\n",
      "/forceset/reserve_jointset_acromial_l_arm_flex_l\n",
      "/forceset/reserve_jointset_acromial_l_arm_add_l\n",
      "/forceset/reserve_jointset_acromial_l_arm_rot_l\n",
      "/forceset/reserve_jointset_elbow_l_elbow_flex_l\n",
      "/forceset/reserve_jointset_radioulnar_l_pro_sup_l\n"
     ]
    }
   ],
   "source": [
    "forceSet = haedo_model.get_ForceSet()\n",
    "\n",
    "for force in forceSet:\n",
    "    print(force.getAbsolutePathString())"
   ]
  },
  {
   "cell_type": "code",
   "execution_count": 22,
   "id": "6a01fa6f",
   "metadata": {},
   "outputs": [],
   "source": [
    "markers_to_ignore = [\"sh1_study\", \n",
    "                    \"sh2_study\", \n",
    "                    \"sh3_study\", \n",
    "                    \"sh4_study\", \n",
    "                    \"sh5_study\", \n",
    "                    \"L_shoulder_study\", \n",
    "                    \"wrist_study\",\n",
    "                    \"elbow_study\",\n",
    "                    \"r_melbow_study\",\n",
    "                    \"r_mwrist_study\",\n",
    "                    \"L_melbow_study\",\n",
    "                    \"L_mwrist_study\"]\n",
    "\n",
    "#simple_model.set_MarkerSet(haedo_model.get_MarkerSet())\n",
    "\n",
    "simple_markerset = simple_model.upd_MarkerSet()\n",
    "\n",
    "for marker in simple_markerset:\n",
    "    if marker.getName().endswith(\"elbow_study\"):\n",
    "        print(simple_markerset.getIndex(marker))\n",
    "#        print(simple_markerset.remove(simple_markerset.getIndex(marker)))\n",
    "\n",
    "\n",
    "for marker in simple_markerset:\n",
    "    if marker.getName().endswith(\"elbow_study\"):\n",
    "        print(marker.getName())"
   ]
  },
  {
   "cell_type": "code",
   "execution_count": 23,
   "id": "33d038ee",
   "metadata": {},
   "outputs": [],
   "source": [
    "haedo_coordinates = haedo_model.updCoordinateSet()\n",
    "simple_coordinates = simple_model.updCoordinateSet()\n",
    "\n",
    "haedo_joints = haedo_model.updJointSet()\n",
    "haedo_joint_names = [joint.getName() for joint in haedo_joints]\n",
    "simple_joints = simple_model.updJointSet()\n",
    "simple_joint_names = [joint.getName() for joint in simple_joints]\n",
    "\n",
    "haedo_coordinate_names = [coordinate.getName() for coordinate in haedo_coordinates]"
   ]
  },
  {
   "cell_type": "code",
   "execution_count": 24,
   "id": "ac10f56b",
   "metadata": {},
   "outputs": [
    {
     "data": {
      "text/plain": [
       "['pelvis_tilt',\n",
       " 'pelvis_list',\n",
       " 'pelvis_rotation',\n",
       " 'pelvis_tx',\n",
       " 'pelvis_ty',\n",
       " 'pelvis_tz',\n",
       " 'hip_flexion_r',\n",
       " 'hip_adduction_r',\n",
       " 'hip_rotation_r',\n",
       " 'knee_angle_r',\n",
       " 'knee_angle_r_beta',\n",
       " 'ankle_angle_r',\n",
       " 'subtalar_angle_r',\n",
       " 'mtp_angle_r',\n",
       " 'hip_flexion_l',\n",
       " 'hip_adduction_l',\n",
       " 'hip_rotation_l',\n",
       " 'knee_angle_l',\n",
       " 'knee_angle_l_beta',\n",
       " 'ankle_angle_l',\n",
       " 'subtalar_angle_l',\n",
       " 'mtp_angle_l',\n",
       " 'lumbar_extension',\n",
       " 'lumbar_bending',\n",
       " 'lumbar_rotation']"
      ]
     },
     "execution_count": 24,
     "metadata": {},
     "output_type": "execute_result"
    }
   ],
   "source": [
    "haedo_coordinate_names"
   ]
  },
  {
   "cell_type": "code",
   "execution_count": 25,
   "id": "42618243",
   "metadata": {},
   "outputs": [],
   "source": [
    "for haedo_joint_name, simple_joint_name in zip(haedo_joint_names, simple_joint_names):\n",
    "    if haedo_joint_name.startswith(\"walker_knee\"):\n",
    "        haedo_joint = haedo_joints.get(haedo_joints.getIndex(haedo_joint_name))\n",
    "        simple_joint = simple_joints.get(simple_joints.getIndex(simple_joint_name))\n",
    "        \n",
    "        haedo_frame_0 = haedo_joint.get_frames(0)\n",
    "        haedo_frame_1 = haedo_joint.get_frames(1)\n",
    "        \n",
    "        simple_frame_0 = simple_joint.get_frames(0)\n",
    "        simple_frame_1 = simple_joint.get_frames(1)\n",
    "        \n",
    "        new_orientation_0 = osim.Vec3(0, 0, 0)\n",
    "        new_orientation_1 = osim.Vec3(0, 0, 0)\n",
    "        \n",
    "        simple_frame_0.set_orientation(new_orientation_0)\n",
    "        #simple_frame_1.set_orientation(new_orientation_1)"
   ]
  },
  {
   "cell_type": "code",
   "execution_count": 26,
   "id": "be2a4de1",
   "metadata": {},
   "outputs": [
    {
     "name": "stdout",
     "output_type": "stream",
     "text": [
      "simple : pelvis_tilt -1.57079633 1.57079633\n",
      "haedo:  pelvis_tilt -1.57079633 1.57079633\n",
      "\n",
      "simple : pelvis_tx -5.0 5.0\n",
      "haedo:  pelvis_tx -50.0 50.0\n",
      "\n",
      "simple : pelvis_ty -1.0 2.0\n",
      "haedo:  pelvis_ty -1.0 2.0\n",
      "\n",
      "simple : hip_flexion_r -0.52359878 2.0943951\n",
      "haedo:  hip_flexion_r -0.52359878 2.0943951\n",
      "\n",
      "simple : knee_angle_r -2.0943951 0.17453293\n",
      "haedo:  knee_angle_r 0.0 2.44346095279206\n",
      "\n",
      "simple : ankle_angle_r -0.8726646259971648 0.8726646259971648\n",
      "haedo:  ankle_angle_r -0.8726646259971648 0.8726646259971648\n",
      "\n",
      "simple : hip_flexion_l -0.52359878 2.0943951\n",
      "haedo:  hip_flexion_l -0.52359878 2.0943951\n",
      "\n",
      "simple : knee_angle_l -2.0943951 0.17453293\n",
      "haedo:  knee_angle_l 0.0 2.44346095279206\n",
      "\n",
      "simple : ankle_angle_l -0.8726646259971648 0.8726646259971648\n",
      "haedo:  ankle_angle_l -0.8726646259971648 0.8726646259971648\n",
      "\n",
      "simple : lumbar_extension -1.57079633 1.57079633\n",
      "haedo:  lumbar_extension -1.57079633 1.57079633\n",
      "\n"
     ]
    }
   ],
   "source": [
    "for coordinate in simple_coordinates:\n",
    "    old_coordinate = haedo_coordinates.get(haedo_coordinates.getIndex(coordinate.getName()))\n",
    "    \n",
    "    \n",
    "    if coordinate.getName().startswith(\"ankle\") or coordinate.getName().startswith(\"hip\"):\n",
    "        coordinate.set_range(0, old_coordinate.get_range(0))\n",
    "        coordinate.set_range(1, old_coordinate.get_range(1))\n",
    "    print(\"simple :\", coordinate.getName(), coordinate.get_range(0), coordinate.get_range(1))\n",
    "    print(\"haedo: \", old_coordinate.getName(), old_coordinate.get_range(0), old_coordinate.get_range(1))\n",
    "    print()\n",
    "    "
   ]
  },
  {
   "cell_type": "code",
   "execution_count": 27,
   "id": "da4d6dd3",
   "metadata": {},
   "outputs": [
    {
     "data": {
      "text/plain": [
       "True"
      ]
     },
     "execution_count": 27,
     "metadata": {},
     "output_type": "execute_result"
    }
   ],
   "source": [
    "simple_model.finalizeConnections()\n",
    "simple_model.printToXML(\"simplified_model.osim\")"
   ]
  },
  {
   "cell_type": "code",
   "execution_count": 28,
   "id": "f7832222",
   "metadata": {},
   "outputs": [],
   "source": [
    "import pandas as pd\n",
    "\n",
    "from assistive_arm.utils.data_preprocessing import read_headers"
   ]
  },
  {
   "cell_type": "code",
   "execution_count": 29,
   "id": "ebbb5d97",
   "metadata": {},
   "outputs": [],
   "source": [
    "headers = read_headers(\"./moco/motions/sit_stand_2.mot\", 10)\n",
    "kin = pd.read_csv(\"./moco/motions/sit_stand_2.mot\", delimiter=\"\\t\", skiprows=10)"
   ]
  },
  {
   "cell_type": "code",
   "execution_count": 30,
   "id": "09cdafb6",
   "metadata": {},
   "outputs": [
    {
     "name": "stdout",
     "output_type": "stream",
     "text": [
      "0.9287312561625947 ,  0.02591920578828876\n",
      "0.9104126773960669 ,  -0.007427588272934308\n",
      "1.5939609408603523 ,  0.053242318473099175\n",
      "1.5254744304516052 ,  0.0342592930348702\n",
      "0.034762444929215534 ,  -0.00792284359961192\n",
      "-0.05069420338956732 ,  0.06299835329364592\n"
     ]
    }
   ],
   "source": [
    "new_df = kin[kin[\"time\"] >= 1.8]\n",
    "key_df = np.deg2rad(new_df[[\"hip_flexion_r\", \"hip_flexion_l\", \"knee_angle_r\", \"knee_angle_l\", \"ankle_angle_r\", \"ankle_angle_l\"]])\n",
    "\n",
    "for column in key_df.columns:\n",
    "    print(key_df[column].array[0], \", \", key_df[column].array[-1])"
   ]
  },
  {
   "cell_type": "code",
   "execution_count": 31,
   "id": "2797639d",
   "metadata": {},
   "outputs": [],
   "source": [
    "new_range = [-120, 10]"
   ]
  },
  {
   "cell_type": "code",
   "execution_count": 32,
   "id": "57a67bd9",
   "metadata": {},
   "outputs": [],
   "source": [
    "def convert_range_inverted(array, old_min, old_max, new_min, new_max):\n",
    "    return (1 - (array - old_min) / (old_max - old_min)) * (new_max - new_min) + new_min\n",
    "\n",
    "def convert_range(array, old_min, old_max, new_min, new_max):\n",
    "    return ((array - old_min) / (old_max - old_min)) * (new_max - new_min) + new_min\n",
    "\n",
    "kin[\"knee_angle_r\"] = convert_range_inverted(kin[\"knee_angle_r\"], 0, 140, -120, 10)\n",
    "kin[\"knee_angle_l\"] = convert_range_inverted(kin[\"knee_angle_l\"], 0, 140, -120, 10)\n",
    "#kin[\"hip_flexion_r\"] = convert_range(kin[\"hip_flexion_r\"], -30, 120, -120, 120)\n",
    "#kin[\"hip_flexion_l\"] = convert_range(kin[\"hip_flexion_r\"], -30, 120, -120, 120)\n"
   ]
  },
  {
   "cell_type": "code",
   "execution_count": 33,
   "id": "178e4420",
   "metadata": {},
   "outputs": [
    {
     "data": {
      "text/plain": [
       "['Coordinates\\n',\n",
       " 'version=1\\n',\n",
       " 'nRows=237\\n',\n",
       " 'nColumns=36\\n',\n",
       " 'inDegrees=yes\\n',\n",
       " '\\n',\n",
       " 'Units are S.I. units (second, meters, Newtons, ...)\\n',\n",
       " \"If the header above contains a line with 'inDegrees', this indicates whether rotational values are in degrees (yes) or radians (no).\\n\",\n",
       " '\\n',\n",
       " 'endheader\\n']"
      ]
     },
     "execution_count": 33,
     "metadata": {},
     "output_type": "execute_result"
    }
   ],
   "source": [
    "new_headers = []\n",
    "for header in headers:\n",
    "    try:\n",
    "        new_headers.append(f\"{header[0]}\\n\")\n",
    "    except:\n",
    "        new_headers.append(\"\\n\")\n",
    "\n",
    "new_headers"
   ]
  },
  {
   "cell_type": "code",
   "execution_count": 34,
   "id": "44a0ef15",
   "metadata": {},
   "outputs": [
    {
     "name": "stdout",
     "output_type": "stream",
     "text": [
      "0.9287312561625947 ,  0.02591920578828876\n",
      "0.9104126773960669 ,  -0.007427588272934308\n",
      "-1.305573662742323 ,  0.12509362947441235\n",
      "-1.2419790459342006 ,  0.14272072452419626\n",
      "0.034762444929215534 ,  -0.00792284359961192\n",
      "-0.05069420338956732 ,  0.06299835329364592\n"
     ]
    }
   ],
   "source": [
    "new_df = kin[kin[\"time\"] >= 1.8]\n",
    "key_df = np.deg2rad(new_df[[\"hip_flexion_r\", \"hip_flexion_l\", \"knee_angle_r\", \"knee_angle_l\", \"ankle_angle_r\", \"ankle_angle_l\"]])\n",
    "\n",
    "for column in key_df.columns:\n",
    "    print(key_df[column].array[0], \", \", key_df[column].array[-1])"
   ]
  },
  {
   "cell_type": "code",
   "execution_count": 35,
   "id": "60a8fdee",
   "metadata": {},
   "outputs": [],
   "source": [
    "filename = \"./filtered.mot\"\n",
    "kin.to_csv(filename, sep=\"\\t\", index=False)\n",
    "# Add header containing version, nRows, nColumns, inDegrees\n",
    "with open(filename, 'r') as f:\n",
    "    contents = f.readlines()\n",
    "\n",
    "with open(filename, 'w') as f:\n",
    "    f.writelines(new_headers + contents)"
   ]
  }
 ],
 "metadata": {
  "kernelspec": {
   "display_name": "Python 3 (ipykernel)",
   "language": "python",
   "name": "python3"
  },
  "language_info": {
   "codemirror_mode": {
    "name": "ipython",
    "version": 3
   },
   "file_extension": ".py",
   "mimetype": "text/x-python",
   "name": "python",
   "nbconvert_exporter": "python",
   "pygments_lexer": "ipython3",
   "version": "3.11.5"
  }
 },
 "nbformat": 4,
 "nbformat_minor": 5
}
